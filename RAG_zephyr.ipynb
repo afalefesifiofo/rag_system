{
  "nbformat": 4,
  "nbformat_minor": 0,
  "metadata": {
    "colab": {
      "provenance": [],
      "gpuType": "T4",
      "include_colab_link": true
    },
    "kernelspec": {
      "name": "python3",
      "display_name": "Python 3"
    },
    "language_info": {
      "name": "python"
    },
    "accelerator": "GPU",
    "widgets": {
      "application/vnd.jupyter.widget-state+json": {
        "df009c069c464264902e1b8aee40a135": {
          "model_module": "@jupyter-widgets/controls",
          "model_name": "HBoxModel",
          "model_module_version": "1.5.0",
          "state": {
            "_dom_classes": [],
            "_model_module": "@jupyter-widgets/controls",
            "_model_module_version": "1.5.0",
            "_model_name": "HBoxModel",
            "_view_count": null,
            "_view_module": "@jupyter-widgets/controls",
            "_view_module_version": "1.5.0",
            "_view_name": "HBoxView",
            "box_style": "",
            "children": [
              "IPY_MODEL_1ea556312bec4b1187665cd261f642c6",
              "IPY_MODEL_998b40164ba0486493d959e402af1700",
              "IPY_MODEL_4fee34d05c854835b096db7cffb4c7d6"
            ],
            "layout": "IPY_MODEL_0717156b3a4a4c918a5964ebfc11e054"
          }
        },
        "1ea556312bec4b1187665cd261f642c6": {
          "model_module": "@jupyter-widgets/controls",
          "model_name": "HTMLModel",
          "model_module_version": "1.5.0",
          "state": {
            "_dom_classes": [],
            "_model_module": "@jupyter-widgets/controls",
            "_model_module_version": "1.5.0",
            "_model_name": "HTMLModel",
            "_view_count": null,
            "_view_module": "@jupyter-widgets/controls",
            "_view_module_version": "1.5.0",
            "_view_name": "HTMLView",
            "description": "",
            "description_tooltip": null,
            "layout": "IPY_MODEL_9cd8279dfb6149e1a7ccd64586af12d5",
            "placeholder": "​",
            "style": "IPY_MODEL_2e8744d0bc9d4a6cb3dfa919cd4ccbe8",
            "value": "Batches: 100%"
          }
        },
        "998b40164ba0486493d959e402af1700": {
          "model_module": "@jupyter-widgets/controls",
          "model_name": "FloatProgressModel",
          "model_module_version": "1.5.0",
          "state": {
            "_dom_classes": [],
            "_model_module": "@jupyter-widgets/controls",
            "_model_module_version": "1.5.0",
            "_model_name": "FloatProgressModel",
            "_view_count": null,
            "_view_module": "@jupyter-widgets/controls",
            "_view_module_version": "1.5.0",
            "_view_name": "ProgressView",
            "bar_style": "success",
            "description": "",
            "description_tooltip": null,
            "layout": "IPY_MODEL_ee24d1c990e54c3b9f62d2384c1b5774",
            "max": 1,
            "min": 0,
            "orientation": "horizontal",
            "style": "IPY_MODEL_ceb2fbe7f0564bc4a0666c4279118650",
            "value": 1
          }
        },
        "4fee34d05c854835b096db7cffb4c7d6": {
          "model_module": "@jupyter-widgets/controls",
          "model_name": "HTMLModel",
          "model_module_version": "1.5.0",
          "state": {
            "_dom_classes": [],
            "_model_module": "@jupyter-widgets/controls",
            "_model_module_version": "1.5.0",
            "_model_name": "HTMLModel",
            "_view_count": null,
            "_view_module": "@jupyter-widgets/controls",
            "_view_module_version": "1.5.0",
            "_view_name": "HTMLView",
            "description": "",
            "description_tooltip": null,
            "layout": "IPY_MODEL_3ff56dc933244c9e9d13e42ef3066f6d",
            "placeholder": "​",
            "style": "IPY_MODEL_d2773985e1944a82b4133c254388e29d",
            "value": " 1/1 [00:00&lt;00:00, 24.08it/s]"
          }
        },
        "0717156b3a4a4c918a5964ebfc11e054": {
          "model_module": "@jupyter-widgets/base",
          "model_name": "LayoutModel",
          "model_module_version": "1.2.0",
          "state": {
            "_model_module": "@jupyter-widgets/base",
            "_model_module_version": "1.2.0",
            "_model_name": "LayoutModel",
            "_view_count": null,
            "_view_module": "@jupyter-widgets/base",
            "_view_module_version": "1.2.0",
            "_view_name": "LayoutView",
            "align_content": null,
            "align_items": null,
            "align_self": null,
            "border": null,
            "bottom": null,
            "display": null,
            "flex": null,
            "flex_flow": null,
            "grid_area": null,
            "grid_auto_columns": null,
            "grid_auto_flow": null,
            "grid_auto_rows": null,
            "grid_column": null,
            "grid_gap": null,
            "grid_row": null,
            "grid_template_areas": null,
            "grid_template_columns": null,
            "grid_template_rows": null,
            "height": null,
            "justify_content": null,
            "justify_items": null,
            "left": null,
            "margin": null,
            "max_height": null,
            "max_width": null,
            "min_height": null,
            "min_width": null,
            "object_fit": null,
            "object_position": null,
            "order": null,
            "overflow": null,
            "overflow_x": null,
            "overflow_y": null,
            "padding": null,
            "right": null,
            "top": null,
            "visibility": null,
            "width": null
          }
        },
        "9cd8279dfb6149e1a7ccd64586af12d5": {
          "model_module": "@jupyter-widgets/base",
          "model_name": "LayoutModel",
          "model_module_version": "1.2.0",
          "state": {
            "_model_module": "@jupyter-widgets/base",
            "_model_module_version": "1.2.0",
            "_model_name": "LayoutModel",
            "_view_count": null,
            "_view_module": "@jupyter-widgets/base",
            "_view_module_version": "1.2.0",
            "_view_name": "LayoutView",
            "align_content": null,
            "align_items": null,
            "align_self": null,
            "border": null,
            "bottom": null,
            "display": null,
            "flex": null,
            "flex_flow": null,
            "grid_area": null,
            "grid_auto_columns": null,
            "grid_auto_flow": null,
            "grid_auto_rows": null,
            "grid_column": null,
            "grid_gap": null,
            "grid_row": null,
            "grid_template_areas": null,
            "grid_template_columns": null,
            "grid_template_rows": null,
            "height": null,
            "justify_content": null,
            "justify_items": null,
            "left": null,
            "margin": null,
            "max_height": null,
            "max_width": null,
            "min_height": null,
            "min_width": null,
            "object_fit": null,
            "object_position": null,
            "order": null,
            "overflow": null,
            "overflow_x": null,
            "overflow_y": null,
            "padding": null,
            "right": null,
            "top": null,
            "visibility": null,
            "width": null
          }
        },
        "2e8744d0bc9d4a6cb3dfa919cd4ccbe8": {
          "model_module": "@jupyter-widgets/controls",
          "model_name": "DescriptionStyleModel",
          "model_module_version": "1.5.0",
          "state": {
            "_model_module": "@jupyter-widgets/controls",
            "_model_module_version": "1.5.0",
            "_model_name": "DescriptionStyleModel",
            "_view_count": null,
            "_view_module": "@jupyter-widgets/base",
            "_view_module_version": "1.2.0",
            "_view_name": "StyleView",
            "description_width": ""
          }
        },
        "ee24d1c990e54c3b9f62d2384c1b5774": {
          "model_module": "@jupyter-widgets/base",
          "model_name": "LayoutModel",
          "model_module_version": "1.2.0",
          "state": {
            "_model_module": "@jupyter-widgets/base",
            "_model_module_version": "1.2.0",
            "_model_name": "LayoutModel",
            "_view_count": null,
            "_view_module": "@jupyter-widgets/base",
            "_view_module_version": "1.2.0",
            "_view_name": "LayoutView",
            "align_content": null,
            "align_items": null,
            "align_self": null,
            "border": null,
            "bottom": null,
            "display": null,
            "flex": null,
            "flex_flow": null,
            "grid_area": null,
            "grid_auto_columns": null,
            "grid_auto_flow": null,
            "grid_auto_rows": null,
            "grid_column": null,
            "grid_gap": null,
            "grid_row": null,
            "grid_template_areas": null,
            "grid_template_columns": null,
            "grid_template_rows": null,
            "height": null,
            "justify_content": null,
            "justify_items": null,
            "left": null,
            "margin": null,
            "max_height": null,
            "max_width": null,
            "min_height": null,
            "min_width": null,
            "object_fit": null,
            "object_position": null,
            "order": null,
            "overflow": null,
            "overflow_x": null,
            "overflow_y": null,
            "padding": null,
            "right": null,
            "top": null,
            "visibility": null,
            "width": null
          }
        },
        "ceb2fbe7f0564bc4a0666c4279118650": {
          "model_module": "@jupyter-widgets/controls",
          "model_name": "ProgressStyleModel",
          "model_module_version": "1.5.0",
          "state": {
            "_model_module": "@jupyter-widgets/controls",
            "_model_module_version": "1.5.0",
            "_model_name": "ProgressStyleModel",
            "_view_count": null,
            "_view_module": "@jupyter-widgets/base",
            "_view_module_version": "1.2.0",
            "_view_name": "StyleView",
            "bar_color": null,
            "description_width": ""
          }
        },
        "3ff56dc933244c9e9d13e42ef3066f6d": {
          "model_module": "@jupyter-widgets/base",
          "model_name": "LayoutModel",
          "model_module_version": "1.2.0",
          "state": {
            "_model_module": "@jupyter-widgets/base",
            "_model_module_version": "1.2.0",
            "_model_name": "LayoutModel",
            "_view_count": null,
            "_view_module": "@jupyter-widgets/base",
            "_view_module_version": "1.2.0",
            "_view_name": "LayoutView",
            "align_content": null,
            "align_items": null,
            "align_self": null,
            "border": null,
            "bottom": null,
            "display": null,
            "flex": null,
            "flex_flow": null,
            "grid_area": null,
            "grid_auto_columns": null,
            "grid_auto_flow": null,
            "grid_auto_rows": null,
            "grid_column": null,
            "grid_gap": null,
            "grid_row": null,
            "grid_template_areas": null,
            "grid_template_columns": null,
            "grid_template_rows": null,
            "height": null,
            "justify_content": null,
            "justify_items": null,
            "left": null,
            "margin": null,
            "max_height": null,
            "max_width": null,
            "min_height": null,
            "min_width": null,
            "object_fit": null,
            "object_position": null,
            "order": null,
            "overflow": null,
            "overflow_x": null,
            "overflow_y": null,
            "padding": null,
            "right": null,
            "top": null,
            "visibility": null,
            "width": null
          }
        },
        "d2773985e1944a82b4133c254388e29d": {
          "model_module": "@jupyter-widgets/controls",
          "model_name": "DescriptionStyleModel",
          "model_module_version": "1.5.0",
          "state": {
            "_model_module": "@jupyter-widgets/controls",
            "_model_module_version": "1.5.0",
            "_model_name": "DescriptionStyleModel",
            "_view_count": null,
            "_view_module": "@jupyter-widgets/base",
            "_view_module_version": "1.2.0",
            "_view_name": "StyleView",
            "description_width": ""
          }
        },
        "0b3fe5c905b54069954fac4db7d323d6": {
          "model_module": "@jupyter-widgets/controls",
          "model_name": "HBoxModel",
          "model_module_version": "1.5.0",
          "state": {
            "_dom_classes": [],
            "_model_module": "@jupyter-widgets/controls",
            "_model_module_version": "1.5.0",
            "_model_name": "HBoxModel",
            "_view_count": null,
            "_view_module": "@jupyter-widgets/controls",
            "_view_module_version": "1.5.0",
            "_view_name": "HBoxView",
            "box_style": "",
            "children": [
              "IPY_MODEL_ad46dbf08de946979fad3bc1499bb9c3",
              "IPY_MODEL_1210a5c7c8214a97b939fdcd5319431f",
              "IPY_MODEL_5879223aad8d411db52602c1c68bcbd1"
            ],
            "layout": "IPY_MODEL_744ac3c0169e463186491ae8501473f9"
          }
        },
        "ad46dbf08de946979fad3bc1499bb9c3": {
          "model_module": "@jupyter-widgets/controls",
          "model_name": "HTMLModel",
          "model_module_version": "1.5.0",
          "state": {
            "_dom_classes": [],
            "_model_module": "@jupyter-widgets/controls",
            "_model_module_version": "1.5.0",
            "_model_name": "HTMLModel",
            "_view_count": null,
            "_view_module": "@jupyter-widgets/controls",
            "_view_module_version": "1.5.0",
            "_view_name": "HTMLView",
            "description": "",
            "description_tooltip": null,
            "layout": "IPY_MODEL_74bf69e4226a441aa38f7a4a9707822f",
            "placeholder": "​",
            "style": "IPY_MODEL_feae12f2a8f84ddab74c3ab4924bf2c6",
            "value": "Batches: 100%"
          }
        },
        "1210a5c7c8214a97b939fdcd5319431f": {
          "model_module": "@jupyter-widgets/controls",
          "model_name": "FloatProgressModel",
          "model_module_version": "1.5.0",
          "state": {
            "_dom_classes": [],
            "_model_module": "@jupyter-widgets/controls",
            "_model_module_version": "1.5.0",
            "_model_name": "FloatProgressModel",
            "_view_count": null,
            "_view_module": "@jupyter-widgets/controls",
            "_view_module_version": "1.5.0",
            "_view_name": "ProgressView",
            "bar_style": "success",
            "description": "",
            "description_tooltip": null,
            "layout": "IPY_MODEL_c4490be56149415bae39842e5d27df90",
            "max": 7,
            "min": 0,
            "orientation": "horizontal",
            "style": "IPY_MODEL_818c05e2c62d45708d820a9da767e274",
            "value": 7
          }
        },
        "5879223aad8d411db52602c1c68bcbd1": {
          "model_module": "@jupyter-widgets/controls",
          "model_name": "HTMLModel",
          "model_module_version": "1.5.0",
          "state": {
            "_dom_classes": [],
            "_model_module": "@jupyter-widgets/controls",
            "_model_module_version": "1.5.0",
            "_model_name": "HTMLModel",
            "_view_count": null,
            "_view_module": "@jupyter-widgets/controls",
            "_view_module_version": "1.5.0",
            "_view_name": "HTMLView",
            "description": "",
            "description_tooltip": null,
            "layout": "IPY_MODEL_9dbb4eb0766a44698d18ec84d3a22ddb",
            "placeholder": "​",
            "style": "IPY_MODEL_4149456f50f744e6970954eedad685ff",
            "value": " 7/7 [00:20&lt;00:00,  2.42s/it]"
          }
        },
        "744ac3c0169e463186491ae8501473f9": {
          "model_module": "@jupyter-widgets/base",
          "model_name": "LayoutModel",
          "model_module_version": "1.2.0",
          "state": {
            "_model_module": "@jupyter-widgets/base",
            "_model_module_version": "1.2.0",
            "_model_name": "LayoutModel",
            "_view_count": null,
            "_view_module": "@jupyter-widgets/base",
            "_view_module_version": "1.2.0",
            "_view_name": "LayoutView",
            "align_content": null,
            "align_items": null,
            "align_self": null,
            "border": null,
            "bottom": null,
            "display": null,
            "flex": null,
            "flex_flow": null,
            "grid_area": null,
            "grid_auto_columns": null,
            "grid_auto_flow": null,
            "grid_auto_rows": null,
            "grid_column": null,
            "grid_gap": null,
            "grid_row": null,
            "grid_template_areas": null,
            "grid_template_columns": null,
            "grid_template_rows": null,
            "height": null,
            "justify_content": null,
            "justify_items": null,
            "left": null,
            "margin": null,
            "max_height": null,
            "max_width": null,
            "min_height": null,
            "min_width": null,
            "object_fit": null,
            "object_position": null,
            "order": null,
            "overflow": null,
            "overflow_x": null,
            "overflow_y": null,
            "padding": null,
            "right": null,
            "top": null,
            "visibility": null,
            "width": null
          }
        },
        "74bf69e4226a441aa38f7a4a9707822f": {
          "model_module": "@jupyter-widgets/base",
          "model_name": "LayoutModel",
          "model_module_version": "1.2.0",
          "state": {
            "_model_module": "@jupyter-widgets/base",
            "_model_module_version": "1.2.0",
            "_model_name": "LayoutModel",
            "_view_count": null,
            "_view_module": "@jupyter-widgets/base",
            "_view_module_version": "1.2.0",
            "_view_name": "LayoutView",
            "align_content": null,
            "align_items": null,
            "align_self": null,
            "border": null,
            "bottom": null,
            "display": null,
            "flex": null,
            "flex_flow": null,
            "grid_area": null,
            "grid_auto_columns": null,
            "grid_auto_flow": null,
            "grid_auto_rows": null,
            "grid_column": null,
            "grid_gap": null,
            "grid_row": null,
            "grid_template_areas": null,
            "grid_template_columns": null,
            "grid_template_rows": null,
            "height": null,
            "justify_content": null,
            "justify_items": null,
            "left": null,
            "margin": null,
            "max_height": null,
            "max_width": null,
            "min_height": null,
            "min_width": null,
            "object_fit": null,
            "object_position": null,
            "order": null,
            "overflow": null,
            "overflow_x": null,
            "overflow_y": null,
            "padding": null,
            "right": null,
            "top": null,
            "visibility": null,
            "width": null
          }
        },
        "feae12f2a8f84ddab74c3ab4924bf2c6": {
          "model_module": "@jupyter-widgets/controls",
          "model_name": "DescriptionStyleModel",
          "model_module_version": "1.5.0",
          "state": {
            "_model_module": "@jupyter-widgets/controls",
            "_model_module_version": "1.5.0",
            "_model_name": "DescriptionStyleModel",
            "_view_count": null,
            "_view_module": "@jupyter-widgets/base",
            "_view_module_version": "1.2.0",
            "_view_name": "StyleView",
            "description_width": ""
          }
        },
        "c4490be56149415bae39842e5d27df90": {
          "model_module": "@jupyter-widgets/base",
          "model_name": "LayoutModel",
          "model_module_version": "1.2.0",
          "state": {
            "_model_module": "@jupyter-widgets/base",
            "_model_module_version": "1.2.0",
            "_model_name": "LayoutModel",
            "_view_count": null,
            "_view_module": "@jupyter-widgets/base",
            "_view_module_version": "1.2.0",
            "_view_name": "LayoutView",
            "align_content": null,
            "align_items": null,
            "align_self": null,
            "border": null,
            "bottom": null,
            "display": null,
            "flex": null,
            "flex_flow": null,
            "grid_area": null,
            "grid_auto_columns": null,
            "grid_auto_flow": null,
            "grid_auto_rows": null,
            "grid_column": null,
            "grid_gap": null,
            "grid_row": null,
            "grid_template_areas": null,
            "grid_template_columns": null,
            "grid_template_rows": null,
            "height": null,
            "justify_content": null,
            "justify_items": null,
            "left": null,
            "margin": null,
            "max_height": null,
            "max_width": null,
            "min_height": null,
            "min_width": null,
            "object_fit": null,
            "object_position": null,
            "order": null,
            "overflow": null,
            "overflow_x": null,
            "overflow_y": null,
            "padding": null,
            "right": null,
            "top": null,
            "visibility": null,
            "width": null
          }
        },
        "818c05e2c62d45708d820a9da767e274": {
          "model_module": "@jupyter-widgets/controls",
          "model_name": "ProgressStyleModel",
          "model_module_version": "1.5.0",
          "state": {
            "_model_module": "@jupyter-widgets/controls",
            "_model_module_version": "1.5.0",
            "_model_name": "ProgressStyleModel",
            "_view_count": null,
            "_view_module": "@jupyter-widgets/base",
            "_view_module_version": "1.2.0",
            "_view_name": "StyleView",
            "bar_color": null,
            "description_width": ""
          }
        },
        "9dbb4eb0766a44698d18ec84d3a22ddb": {
          "model_module": "@jupyter-widgets/base",
          "model_name": "LayoutModel",
          "model_module_version": "1.2.0",
          "state": {
            "_model_module": "@jupyter-widgets/base",
            "_model_module_version": "1.2.0",
            "_model_name": "LayoutModel",
            "_view_count": null,
            "_view_module": "@jupyter-widgets/base",
            "_view_module_version": "1.2.0",
            "_view_name": "LayoutView",
            "align_content": null,
            "align_items": null,
            "align_self": null,
            "border": null,
            "bottom": null,
            "display": null,
            "flex": null,
            "flex_flow": null,
            "grid_area": null,
            "grid_auto_columns": null,
            "grid_auto_flow": null,
            "grid_auto_rows": null,
            "grid_column": null,
            "grid_gap": null,
            "grid_row": null,
            "grid_template_areas": null,
            "grid_template_columns": null,
            "grid_template_rows": null,
            "height": null,
            "justify_content": null,
            "justify_items": null,
            "left": null,
            "margin": null,
            "max_height": null,
            "max_width": null,
            "min_height": null,
            "min_width": null,
            "object_fit": null,
            "object_position": null,
            "order": null,
            "overflow": null,
            "overflow_x": null,
            "overflow_y": null,
            "padding": null,
            "right": null,
            "top": null,
            "visibility": null,
            "width": null
          }
        },
        "4149456f50f744e6970954eedad685ff": {
          "model_module": "@jupyter-widgets/controls",
          "model_name": "DescriptionStyleModel",
          "model_module_version": "1.5.0",
          "state": {
            "_model_module": "@jupyter-widgets/controls",
            "_model_module_version": "1.5.0",
            "_model_name": "DescriptionStyleModel",
            "_view_count": null,
            "_view_module": "@jupyter-widgets/base",
            "_view_module_version": "1.2.0",
            "_view_name": "StyleView",
            "description_width": ""
          }
        },
        "960fdc538665424eb72c70909d046e4a": {
          "model_module": "@jupyter-widgets/controls",
          "model_name": "HBoxModel",
          "model_module_version": "1.5.0",
          "state": {
            "_dom_classes": [],
            "_model_module": "@jupyter-widgets/controls",
            "_model_module_version": "1.5.0",
            "_model_name": "HBoxModel",
            "_view_count": null,
            "_view_module": "@jupyter-widgets/controls",
            "_view_module_version": "1.5.0",
            "_view_name": "HBoxView",
            "box_style": "",
            "children": [
              "IPY_MODEL_1a6466fec71c4c47b9719e7c089379be",
              "IPY_MODEL_c013b23312df47939c50ea83108d4d8d",
              "IPY_MODEL_ebe7f8bfbdd545c798d7d971d2822555"
            ],
            "layout": "IPY_MODEL_662a6f8f03e94faa99edf6ca92d8626b"
          }
        },
        "1a6466fec71c4c47b9719e7c089379be": {
          "model_module": "@jupyter-widgets/controls",
          "model_name": "HTMLModel",
          "model_module_version": "1.5.0",
          "state": {
            "_dom_classes": [],
            "_model_module": "@jupyter-widgets/controls",
            "_model_module_version": "1.5.0",
            "_model_name": "HTMLModel",
            "_view_count": null,
            "_view_module": "@jupyter-widgets/controls",
            "_view_module_version": "1.5.0",
            "_view_name": "HTMLView",
            "description": "",
            "description_tooltip": null,
            "layout": "IPY_MODEL_21505f1a76cd4e6cb561fbd3e6fd6bbc",
            "placeholder": "​",
            "style": "IPY_MODEL_14885bbfb7204b65b95125e3a8e2209b",
            "value": "Loading checkpoint shards: 100%"
          }
        },
        "c013b23312df47939c50ea83108d4d8d": {
          "model_module": "@jupyter-widgets/controls",
          "model_name": "FloatProgressModel",
          "model_module_version": "1.5.0",
          "state": {
            "_dom_classes": [],
            "_model_module": "@jupyter-widgets/controls",
            "_model_module_version": "1.5.0",
            "_model_name": "FloatProgressModel",
            "_view_count": null,
            "_view_module": "@jupyter-widgets/controls",
            "_view_module_version": "1.5.0",
            "_view_name": "ProgressView",
            "bar_style": "success",
            "description": "",
            "description_tooltip": null,
            "layout": "IPY_MODEL_f14a00db68344ad19a757a5371577a90",
            "max": 8,
            "min": 0,
            "orientation": "horizontal",
            "style": "IPY_MODEL_d02192f05cc64c20aa65a20cd737e247",
            "value": 8
          }
        },
        "ebe7f8bfbdd545c798d7d971d2822555": {
          "model_module": "@jupyter-widgets/controls",
          "model_name": "HTMLModel",
          "model_module_version": "1.5.0",
          "state": {
            "_dom_classes": [],
            "_model_module": "@jupyter-widgets/controls",
            "_model_module_version": "1.5.0",
            "_model_name": "HTMLModel",
            "_view_count": null,
            "_view_module": "@jupyter-widgets/controls",
            "_view_module_version": "1.5.0",
            "_view_name": "HTMLView",
            "description": "",
            "description_tooltip": null,
            "layout": "IPY_MODEL_fb77ed374b524eb9b6ae6d01f14476b4",
            "placeholder": "​",
            "style": "IPY_MODEL_7aaac513563d4f5f8d78a0929f1f36ca",
            "value": " 8/8 [01:28&lt;00:00,  9.65s/it]"
          }
        },
        "662a6f8f03e94faa99edf6ca92d8626b": {
          "model_module": "@jupyter-widgets/base",
          "model_name": "LayoutModel",
          "model_module_version": "1.2.0",
          "state": {
            "_model_module": "@jupyter-widgets/base",
            "_model_module_version": "1.2.0",
            "_model_name": "LayoutModel",
            "_view_count": null,
            "_view_module": "@jupyter-widgets/base",
            "_view_module_version": "1.2.0",
            "_view_name": "LayoutView",
            "align_content": null,
            "align_items": null,
            "align_self": null,
            "border": null,
            "bottom": null,
            "display": null,
            "flex": null,
            "flex_flow": null,
            "grid_area": null,
            "grid_auto_columns": null,
            "grid_auto_flow": null,
            "grid_auto_rows": null,
            "grid_column": null,
            "grid_gap": null,
            "grid_row": null,
            "grid_template_areas": null,
            "grid_template_columns": null,
            "grid_template_rows": null,
            "height": null,
            "justify_content": null,
            "justify_items": null,
            "left": null,
            "margin": null,
            "max_height": null,
            "max_width": null,
            "min_height": null,
            "min_width": null,
            "object_fit": null,
            "object_position": null,
            "order": null,
            "overflow": null,
            "overflow_x": null,
            "overflow_y": null,
            "padding": null,
            "right": null,
            "top": null,
            "visibility": null,
            "width": null
          }
        },
        "21505f1a76cd4e6cb561fbd3e6fd6bbc": {
          "model_module": "@jupyter-widgets/base",
          "model_name": "LayoutModel",
          "model_module_version": "1.2.0",
          "state": {
            "_model_module": "@jupyter-widgets/base",
            "_model_module_version": "1.2.0",
            "_model_name": "LayoutModel",
            "_view_count": null,
            "_view_module": "@jupyter-widgets/base",
            "_view_module_version": "1.2.0",
            "_view_name": "LayoutView",
            "align_content": null,
            "align_items": null,
            "align_self": null,
            "border": null,
            "bottom": null,
            "display": null,
            "flex": null,
            "flex_flow": null,
            "grid_area": null,
            "grid_auto_columns": null,
            "grid_auto_flow": null,
            "grid_auto_rows": null,
            "grid_column": null,
            "grid_gap": null,
            "grid_row": null,
            "grid_template_areas": null,
            "grid_template_columns": null,
            "grid_template_rows": null,
            "height": null,
            "justify_content": null,
            "justify_items": null,
            "left": null,
            "margin": null,
            "max_height": null,
            "max_width": null,
            "min_height": null,
            "min_width": null,
            "object_fit": null,
            "object_position": null,
            "order": null,
            "overflow": null,
            "overflow_x": null,
            "overflow_y": null,
            "padding": null,
            "right": null,
            "top": null,
            "visibility": null,
            "width": null
          }
        },
        "14885bbfb7204b65b95125e3a8e2209b": {
          "model_module": "@jupyter-widgets/controls",
          "model_name": "DescriptionStyleModel",
          "model_module_version": "1.5.0",
          "state": {
            "_model_module": "@jupyter-widgets/controls",
            "_model_module_version": "1.5.0",
            "_model_name": "DescriptionStyleModel",
            "_view_count": null,
            "_view_module": "@jupyter-widgets/base",
            "_view_module_version": "1.2.0",
            "_view_name": "StyleView",
            "description_width": ""
          }
        },
        "f14a00db68344ad19a757a5371577a90": {
          "model_module": "@jupyter-widgets/base",
          "model_name": "LayoutModel",
          "model_module_version": "1.2.0",
          "state": {
            "_model_module": "@jupyter-widgets/base",
            "_model_module_version": "1.2.0",
            "_model_name": "LayoutModel",
            "_view_count": null,
            "_view_module": "@jupyter-widgets/base",
            "_view_module_version": "1.2.0",
            "_view_name": "LayoutView",
            "align_content": null,
            "align_items": null,
            "align_self": null,
            "border": null,
            "bottom": null,
            "display": null,
            "flex": null,
            "flex_flow": null,
            "grid_area": null,
            "grid_auto_columns": null,
            "grid_auto_flow": null,
            "grid_auto_rows": null,
            "grid_column": null,
            "grid_gap": null,
            "grid_row": null,
            "grid_template_areas": null,
            "grid_template_columns": null,
            "grid_template_rows": null,
            "height": null,
            "justify_content": null,
            "justify_items": null,
            "left": null,
            "margin": null,
            "max_height": null,
            "max_width": null,
            "min_height": null,
            "min_width": null,
            "object_fit": null,
            "object_position": null,
            "order": null,
            "overflow": null,
            "overflow_x": null,
            "overflow_y": null,
            "padding": null,
            "right": null,
            "top": null,
            "visibility": null,
            "width": null
          }
        },
        "d02192f05cc64c20aa65a20cd737e247": {
          "model_module": "@jupyter-widgets/controls",
          "model_name": "ProgressStyleModel",
          "model_module_version": "1.5.0",
          "state": {
            "_model_module": "@jupyter-widgets/controls",
            "_model_module_version": "1.5.0",
            "_model_name": "ProgressStyleModel",
            "_view_count": null,
            "_view_module": "@jupyter-widgets/base",
            "_view_module_version": "1.2.0",
            "_view_name": "StyleView",
            "bar_color": null,
            "description_width": ""
          }
        },
        "fb77ed374b524eb9b6ae6d01f14476b4": {
          "model_module": "@jupyter-widgets/base",
          "model_name": "LayoutModel",
          "model_module_version": "1.2.0",
          "state": {
            "_model_module": "@jupyter-widgets/base",
            "_model_module_version": "1.2.0",
            "_model_name": "LayoutModel",
            "_view_count": null,
            "_view_module": "@jupyter-widgets/base",
            "_view_module_version": "1.2.0",
            "_view_name": "LayoutView",
            "align_content": null,
            "align_items": null,
            "align_self": null,
            "border": null,
            "bottom": null,
            "display": null,
            "flex": null,
            "flex_flow": null,
            "grid_area": null,
            "grid_auto_columns": null,
            "grid_auto_flow": null,
            "grid_auto_rows": null,
            "grid_column": null,
            "grid_gap": null,
            "grid_row": null,
            "grid_template_areas": null,
            "grid_template_columns": null,
            "grid_template_rows": null,
            "height": null,
            "justify_content": null,
            "justify_items": null,
            "left": null,
            "margin": null,
            "max_height": null,
            "max_width": null,
            "min_height": null,
            "min_width": null,
            "object_fit": null,
            "object_position": null,
            "order": null,
            "overflow": null,
            "overflow_x": null,
            "overflow_y": null,
            "padding": null,
            "right": null,
            "top": null,
            "visibility": null,
            "width": null
          }
        },
        "7aaac513563d4f5f8d78a0929f1f36ca": {
          "model_module": "@jupyter-widgets/controls",
          "model_name": "DescriptionStyleModel",
          "model_module_version": "1.5.0",
          "state": {
            "_model_module": "@jupyter-widgets/controls",
            "_model_module_version": "1.5.0",
            "_model_name": "DescriptionStyleModel",
            "_view_count": null,
            "_view_module": "@jupyter-widgets/base",
            "_view_module_version": "1.2.0",
            "_view_name": "StyleView",
            "description_width": ""
          }
        }
      }
    }
  },
  "cells": [
    {
      "cell_type": "markdown",
      "metadata": {
        "id": "view-in-github",
        "colab_type": "text"
      },
      "source": [
        "<a href=\"https://colab.research.google.com/github/afalefesifiofo/rag_system/blob/main/RAG_zephyr.ipynb\" target=\"_parent\"><img src=\"https://colab.research.google.com/assets/colab-badge.svg\" alt=\"Open In Colab\"/></a>"
      ]
    },
    {
      "cell_type": "markdown",
      "source": [
        "# Retrieval Augmented Generation (RAG) Pipelines with Haystack\n",
        "\n",
        "A Retrieval Augmented Generation (RAG) system is developed within this notebook using Haystack. This system integrates two different components:\n",
        "* **indexing pipeline**: in which context data is processed, vectorized, and saved to a local vector DB.\n",
        "* **retrieval pipeline**: through which context data can be retrieved based on a query performed by the user.\n",
        "\n",
        "## Summary\n",
        "[Retrieval Augmented Generation (RAG) Pipelines with Haystack 2.0](#scrollTo=ds09UVrMiI38)\n",
        "\n",
        "> [Introduction to RAG systems](#scrollTo=VlRLgGMQuYRr)\n",
        "\n",
        "> [Install the project dependencies](#scrollTo=C_EmS8KTLqaG)\n",
        "\n",
        "> [Import the project libraries](#scrollTo=cxaAoBRwVZCk)\n",
        "\n",
        "> [Download the Dataset](#scrollTo=HWu0v6ObdpAW)\n",
        "\n",
        "> [Load the Dataset](#scrollTo=xwwt1A8KVJlX)\n",
        "\n",
        "> [Create the Documents to indexing](#scrollTo=gX_dditMhrvh)\n",
        "\n",
        "> [The indexing Pipeline](#scrollTo=_Gqn28JJtYXn)\n",
        "\n",
        "> [The RAG Pipeline](#scrollTo=bxLazyNtrHJ4)\n",
        "\n",
        "> [Create the RAG Pipeline](#scrollTo=uUHdCn1KWw6A)\n",
        "\n",
        "> [Test the RAG Pipeline](#scrollTo=AyMknm7PgN2M)\n",
        "\n",
        "\n",
        "*Notebook created by [Andrea Cadeddu](https://it.linkedin.com/in/andrea-cadeddu) and [Vincenzo De Leo](https://it.linkedin.com/in/vincenzodeleo) from [Linkalab](https://www.linkalab.it/).*"
      ],
      "metadata": {
        "id": "ds09UVrMiI38"
      }
    },
    {
      "cell_type": "markdown",
      "source": [
        "## Introduction to RAG systems\n",
        "\n",
        "Retrieval-Augmented Generation (RAG) is the process of optimizing the output of a large language model so that it references an authoritative knowledge base outside its training data sources before generating an answer. RAG extends the already advanced capabilities of LLMs to specific domains or to an organization's internal knowledge base, all without the need to retrain the model. It is a cost-effective approach to improving LLM output so that it remains relevant, accurate, and useful in various contexts.  \n",
        "\n",
        "RAG technology offers several benefits to an organization's generative AI efforts:\n",
        "* efficient implementation\n",
        "* easy data management\n",
        "* increased user confidence\n",
        "* increased control by developers\n",
        "\n",
        "### How does Retrieval-Augmented Generation work?\n",
        "Without RAG, the LLM takes user input and creates a response based on the information it has been trained on or what it already knows. With RAG, an information retrieval component is introduced that uses user input to first extract information from a new data source. The user's request and the relevant information are both provided to the LLM. The LLM uses the new knowledge and its training data to create better answers. The following sections provide an overview of the process.\n",
        "\n",
        "<center> Example of RAG flow </center>\n",
        "<img src=https://haystack.deepset.ai/blog/mixtral-8x7b-healthcare-chatbot/RAG.png>\n",
        "\n",
        "**Creation of external data**  \n",
        "New data outside the LLM's original training dataset is called external data. It can come from multiple data sources, such as APIs, databases, or document repositories. The data can exist in various formats such as files, database records or long text. Another artificial intelligence technique, called language model embedding, converts the data into numerical representations and stores them in a vector database. This process creates a library of knowledge that generative AI models can understand.\n",
        "\n",
        "**Retrieval of relevant information**  \n",
        "The next step is to perform a relevance query. The user's query is converted into a vector representation and matched with vector databases. The documents retrieved will be returned because they are highly relevant to the user's question. Relevance was calculated and established using vector mathematical calculations and representations.\n",
        "\n",
        "**Increasing the LLM prompt**  \n",
        "Next, the RAG model augments the user input (or prompts) by adding relevant retrieved data in context. This step uses prompt design techniques to communicate effectively with the LLM. The augmented prompt allows large language models to generate an accurate response to user queries.\n",
        "\n",
        "**Updating external data**\n",
        "The next question might be: what happens if the external data becomes obsolete?To maintain current information for retrieval, asynchronously update the documents and update the embedded representation of the documents.You can do this through automated real-time processes or periodic batch processing.This is a common challenge in data analysis: you can use different data science approaches to change management.\n",
        "\n",
        "**Sources**\n",
        "* https://aws.amazon.com/it/what-is/retrieval-augmented-generation/\n",
        "* https://haystack.deepset.ai/blog/mixtral-8x7b-healthcare-chatbot"
      ],
      "metadata": {
        "id": "VlRLgGMQuYRr"
      }
    },
    {
      "cell_type": "markdown",
      "source": [
        "## Install the project dependencies  \n",
        "In order to implement the RAG pipeline, the following libraries must be installed:\n",
        "* [accelerate](https://huggingface.co/docs/accelerate/index) and [bitsandbytes](https://huggingface.co/docs/bitsandbytes/main/en/index): required to use quantized versions of LLM models (with smaller memory footprint)\n",
        "* [haystack-ai](https://haystack.deepset.ai/): necessary to create the indexing and RAG pipelines\n",
        "* [pandas](https://pandas.pydata.org/): enables easy management of tabular data\n",
        "* [rich](https://rich.readthedocs.io/en/stable/introduction.html): allows to get better display of terminal outputs\n",
        "* [seaborn](https://pandas.pydata.org/): for better data visualization\n",
        "* [sentence-transformers](https://www.sbert.net/): to convert text data into embeddings\n",
        "\n",
        "**Please Note**  \n",
        "The magic command `capture` hides the package installation output"
      ],
      "metadata": {
        "id": "C_EmS8KTLqaG"
      }
    },
    {
      "cell_type": "code",
      "execution_count": 54,
      "metadata": {
        "id": "EyvRJLUrKecZ"
      },
      "outputs": [],
      "source": [
        "%%capture\n",
        "!pip install accelerate bitsandbytes haystack-ai pandas rich seaborn sentence-transformers PyPDF2"
      ]
    },
    {
      "cell_type": "markdown",
      "source": [
        "## Import the project libraries\n",
        "As can be seen from the list of imported libraries, Haystack organizes all components by functionality.  \n",
        "For details on source code organization, please refer to the [repository](https://github.com/deepset-ai/haystack) on GitHub."
      ],
      "metadata": {
        "id": "cxaAoBRwVZCk"
      }
    },
    {
      "cell_type": "code",
      "source": [
        "from IPython.display import Image\n",
        "\n",
        "import pandas as pd\n",
        "\n",
        "from matplotlib import pyplot as plt\n",
        "import seaborn as sns\n",
        "\n",
        "import torch\n",
        "from haystack import Document\n",
        "from haystack import Pipeline\n",
        "from haystack.document_stores.in_memory import InMemoryDocumentStore\n",
        "from haystack.document_stores.types import DuplicatePolicy\n",
        "from haystack.components.preprocessors import DocumentCleaner\n",
        "from haystack.components.preprocessors import DocumentSplitter\n",
        "from haystack.components.embedders import SentenceTransformersDocumentEmbedder\n",
        "from haystack.components.writers import DocumentWriter\n",
        "from haystack.components.embedders import SentenceTransformersTextEmbedder\n",
        "from haystack.components.retrievers.in_memory import InMemoryBM25Retriever\n",
        "from haystack.components.retrievers.in_memory import InMemoryEmbeddingRetriever\n",
        "from haystack.components.joiners import DocumentJoiner\n",
        "from haystack.components.rankers import TransformersSimilarityRanker\n",
        "from haystack.components.builders import PromptBuilder\n",
        "from haystack.components.generators import HuggingFaceLocalGenerator\n",
        "from haystack.utils import ComponentDevice\n",
        "\n",
        "import rich\n",
        "\n",
        "import hashlib\n",
        "import warnings\n",
        "warnings.filterwarnings(action=\"ignore\")"
      ],
      "metadata": {
        "id": "s3REI7DlVYLc"
      },
      "execution_count": 55,
      "outputs": []
    },
    {
      "cell_type": "markdown",
      "source": [
        "### Define libraries configurations\n",
        "New default parameters are defined to aid data visualization"
      ],
      "metadata": {
        "id": "qGdhwKdk62rI"
      }
    },
    {
      "cell_type": "code",
      "source": [
        "%matplotlib inline\n",
        "%config InlineBackend.figure_format = 'retina'"
      ],
      "metadata": {
        "id": "2srxbJRCxmvF"
      },
      "execution_count": 56,
      "outputs": []
    },
    {
      "cell_type": "code",
      "source": [
        "pd.set_option(\"display.float_format\", '{:.2f}'.format)"
      ],
      "metadata": {
        "id": "SWq152gyZFvd"
      },
      "execution_count": 57,
      "outputs": []
    },
    {
      "cell_type": "code",
      "source": [
        "import PyPDF2\n",
        "import os\n",
        "\n",
        "def extract_text_from_pdf(file_path):\n",
        "    if os.path.exists(file_path):\n",
        "        # Estrarre il testo dal PDF\n",
        "        text = \"\"\n",
        "        with open(file_path, \"rb\") as f:\n",
        "            reader = PyPDF2.PdfReader(f)\n",
        "            for page in reader.pages:\n",
        "                text += page.extract_text() + \"\\n\"\n",
        "\n",
        "        return text\n",
        "    else:\n",
        "        print(\"Il file non esiste.\")\n",
        "        return \"\"\n",
        "\n",
        "# Esempio di utilizzo: specifica il percorso del tuo file PDF\n",
        "pdf_file_path = \"reg_2023.pdf\"  # Sostituisci con il percorso del tuo file PDF\n",
        "\n",
        "# Estrarre il testo dal PDF\n",
        "pdf_text = extract_text_from_pdf(pdf_file_path)\n",
        "\n",
        "# Verifica il contenuto del testo estratto (esempio di stampa)\n",
        "print(pdf_text[:500])  # Mostra i primi 500 caratteri estratti\n"
      ],
      "metadata": {
        "colab": {
          "base_uri": "https://localhost:8080/"
        },
        "id": "W67AZx3q3rur",
        "outputId": "60b18f5e-e104-4594-f350-35e29a09e907"
      },
      "execution_count": 53,
      "outputs": [
        {
          "output_type": "stream",
          "name": "stdout",
          "text": [
            "ASSOCIAZIONE ITALIANA ARBITRI  \n",
            " \n",
            " \n",
            " \n",
            " \n",
            "Il Regolamento del Giuoco del Calcio \n",
            "corredato delle Decisioni Ufficiali FIGC \n",
            "e della Guida Pratica AIA  \n",
            " \n",
            " \n",
            " \n",
            " \n",
            " \n",
            " \n",
            "Edizione 2023  \n",
            "Aggiornata al 1° luglio \n",
            " \n",
            " \n",
            " \n",
            "THE INTERNATIONAL FOOTBALL ASSOCIATION BOARD (IFAB)  \n",
            "Münstergasse, 9 \n",
            "8001 Zurich \n",
            " \n",
            " \n",
            " \n",
            "FEDERAZIONE ITALIANA GIUOCO CALCIO (FIGC)  \n",
            "Via Gregorio Allegri, 14  \n",
            "00198 Roma \n",
            " \n",
            " \n",
            " \n",
            "ASSOCIAZIONE ITALIANA ARBITRI (AIA)  \n",
            "Via Campania, 47  \n",
            "00187 Roma  \n",
            " \n",
            " \n",
            " \n",
            " \n",
            " \n",
            " \n",
            " \n",
            " \n",
            " \n",
            " \n",
            "a cura del Settore Tecni\n"
          ]
        }
      ]
    },
    {
      "cell_type": "markdown",
      "source": [
        "## Create the Documents to indexing\n",
        "In order to process and upload data to Haystack, it is first necessary to encapsulate everything within a `Document`.  \n",
        "Therefore, an iteration is performed to create a `Document` for each movie in the Dataset.  \n",
        "Specifically, the content of the <u>description</u> is loaded as content, while the variables <u>name</u>, <u>date</u>, <u>genre</u>, and <u>cast</u> are considered metadata."
      ],
      "metadata": {
        "id": "907u3PtIhlWs"
      }
    },
    {
      "cell_type": "code",
      "source": [
        "df_documents = [pdf_text]\n",
        "\n"
      ],
      "metadata": {
        "id": "gX_dditMhrvh"
      },
      "execution_count": 58,
      "outputs": []
    },
    {
      "cell_type": "markdown",
      "source": [
        "### How hash works\n",
        "The module `hashlib` implements a common interface to many different secure hash and message digest algorithms."
      ],
      "metadata": {
        "id": "kM5iTSdZDaR7"
      }
    },
    {
      "cell_type": "code",
      "source": [
        "m = hashlib.sha256()\n",
        "m.update(b\"After dominating the boxing world, Adonis Creed has been thriving in both his career and family life...\")\n",
        "m.hexdigest()"
      ],
      "metadata": {
        "id": "vW88wntEDZ1z",
        "colab": {
          "base_uri": "https://localhost:8080/",
          "height": 35
        },
        "outputId": "491dcbb2-825c-4c14-d9eb-35a239aa9f9d"
      },
      "execution_count": 59,
      "outputs": [
        {
          "output_type": "execute_result",
          "data": {
            "text/plain": [
              "'18e7f9a793c5c7a04617fe01b775cfc31094fe1b97763450dbc797999fd5f3cc'"
            ],
            "application/vnd.google.colaboratory.intrinsic+json": {
              "type": "string"
            }
          },
          "metadata": {},
          "execution_count": 59
        }
      ]
    },
    {
      "cell_type": "markdown",
      "source": [
        "## The indexing Pipeline\n",
        "The indexing Pipeline transform the original Documents and save them in the Document Store.\n",
        "\n",
        "It consists of several components:\n",
        "1. `DocumentCleaner`: performs a basic cleaning of the Documents\n",
        "2. `DocumentSplitter`: chunks each `Document` into smaller pieces (more appropriate for semantic search and RAG)\n",
        "3. `SentenceTransformersDocumentEmbedder`:\n",
        "  * represent each `Document` as a vector (capturing its meaning) using a specified model\n",
        "  * also the metadata is embedded, because it contains relevant information (`metadata_fields_to_embed` parameter).\n",
        "  * the GPU is used for this expensive operation (`device` parameter).\n",
        "4. `DocumentWriter` just saves the Documents in the Document Store"
      ],
      "metadata": {
        "id": "_Gqn28JJtYXn"
      }
    },
    {
      "cell_type": "markdown",
      "source": [
        "### Define the Document Store\n",
        "A vector database, unlike traditional databases, is a specialized database designed to store, manage and search embedded vectors. It stores numerical representations of documents. Breaking down data to numerical embeddings makes it easier for our AI system to understand and process the data.\n",
        "\n",
        "* `InMemoryDocumentStore` is used to store movie data with its embeddings, which stores the data in the device RAM memory.\n",
        "\n",
        "However, it should be specified that in case the database should have a considerable size (not this case), it is necessary to use ad hoc [vector database](https://haystack.deepset.ai/integrations?type=Document+Store&maintainer=deepset) services.\n",
        "\n",
        "<center>Overview of vector databases services</center>\n",
        "<center>\n",
        "  <img src=https://images.datacamp.com/image/upload/v1714147215/image_c9031ee72f.png width=800>\n",
        "</center>\n",
        "\n",
        "Each vector database has different characteristics and strengths, so choosing the ideal service depends on your needs and the data available.\n",
        "\n"
      ],
      "metadata": {
        "id": "ezgwA7uCXbr0"
      }
    },
    {
      "cell_type": "code",
      "source": [
        "document_store = InMemoryDocumentStore(\n",
        "    # the regex search for all words of at least two characters, considering also non-ASCII characters\n",
        "    bm25_tokenization_regex=\"(?u)\\\\b\\\\w\\\\w+\\\\b\",\n",
        "    bm25_algorithm=\"BM25L\",\n",
        "    bm25_parameters=None,\n",
        "    embedding_similarity_function=\"cosine\"\n",
        ")"
      ],
      "metadata": {
        "id": "i_jg7dkuaK0Z"
      },
      "execution_count": 60,
      "outputs": []
    },
    {
      "cell_type": "markdown",
      "source": [
        "### Define the components for text processing\n",
        "\n",
        "* `DocumentCleaner` makes text documents more readable. It removes extra whitespaces, empty lines, specified substrings, regexes, page headers, and footers in this particular order. This is useful for preparing the documents for further processing by LLMs.\n",
        "\n",
        "* `DocumentSplitter` divides a list of text documents into a list of shorter text Documents. This is useful for long texts that otherwise wouldn't fit into the maximum text length of language models and can also speed up question answering.\n",
        "\n",
        "The `DocumentSplitter` takes care of splitting texts into chunks when they exceed a certain length. This processing step is critical to properly preserving and vectorizing all the information in the database.\n",
        "\n",
        "\n",
        "<center>Overview of the `DocumentSplitter` flow</center>\n",
        "<center>\n",
        "  <img src=https://miro.medium.com/v2/resize:fit:1100/format:webp/0*v-rMAW9xuKERbyJF.png width=600>\n",
        "</center>\n",
        "\n",
        "In addition, making a split of texts into chunks allows for better prompt optimization, as the extracted documents will be shorter and there will be less chance of eroding the context window of the model."
      ],
      "metadata": {
        "id": "OMVcpZL4quFe"
      }
    },
    {
      "cell_type": "code",
      "source": [
        "document_cleaner = DocumentCleaner(\n",
        "    remove_empty_lines=True,\n",
        "    remove_extra_whitespaces=True,\n",
        "    remove_repeated_substrings=False,\n",
        "    remove_substrings=None,\n",
        "    remove_regex=None\n",
        ")\n",
        "\n",
        "document_splitter = DocumentSplitter(\n",
        "    split_by='word',\n",
        "    split_length=256,\n",
        "    split_overlap=0\n",
        ")"
      ],
      "metadata": {
        "id": "ALy9U8ICqtjT"
      },
      "execution_count": 61,
      "outputs": []
    },
    {
      "cell_type": "markdown",
      "source": [
        "### Define the components for text vectorization\n",
        "Before we store our data, we will need to convert it to vector embeddings before it is stored in the database.  \n",
        "Haystack provides a connector so that models in this family can be used directly by specifying the model name.  \n",
        "The model used is [bge-large-en-v1.5](https://huggingface.co/BAAI/bge-large-en-v1.5) provided by the Beijing research team, which turns out to be very accurate in the calculation of embeddings.\n",
        "\n",
        "**Note**  \n",
        "Metadata embeddings can also be computed, whereby the list with the metadata to be included in the vectorization operation is defined."
      ],
      "metadata": {
        "id": "-b5q6s6N-ITE"
      }
    },
    {
      "cell_type": "code",
      "source": [
        "batch_size = 32\n",
        "\n",
        "document_embedder = SentenceTransformersDocumentEmbedder(\n",
        "    model=\"BAAI/bge-large-en-v1.5\",\n",
        "    device=ComponentDevice.from_str(\"cuda:0\"),\n",
        "    # token=None,\n",
        "    prefix='',\n",
        "    suffix='',\n",
        "    batch_size=batch_size,\n",
        "    progress_bar=True,\n",
        "    normalize_embeddings=False,\n",
        "    meta_fields_to_embed=[\"name\", \"year\", \"genre\", \"cast\"],\n",
        "    embedding_separator='\\n'\n",
        ")\n",
        "document_embedder.warm_up()"
      ],
      "metadata": {
        "id": "KiVAb6bWrl5Q"
      },
      "execution_count": 62,
      "outputs": []
    },
    {
      "cell_type": "markdown",
      "source": [
        "#### Try the embedding model"
      ],
      "metadata": {
        "id": "fMNMYdrMEhP9"
      }
    },
    {
      "cell_type": "code",
      "source": [
        "test_embeddings = document_embedder.run(documents=[Document(\"The cat is on the table\")])\n",
        "test_embeddings"
      ],
      "metadata": {
        "id": "DTPeYRQQElLu",
        "colab": {
          "base_uri": "https://localhost:8080/",
          "height": 66,
          "referenced_widgets": [
            "df009c069c464264902e1b8aee40a135",
            "1ea556312bec4b1187665cd261f642c6",
            "998b40164ba0486493d959e402af1700",
            "4fee34d05c854835b096db7cffb4c7d6",
            "0717156b3a4a4c918a5964ebfc11e054",
            "9cd8279dfb6149e1a7ccd64586af12d5",
            "2e8744d0bc9d4a6cb3dfa919cd4ccbe8",
            "ee24d1c990e54c3b9f62d2384c1b5774",
            "ceb2fbe7f0564bc4a0666c4279118650",
            "3ff56dc933244c9e9d13e42ef3066f6d",
            "d2773985e1944a82b4133c254388e29d"
          ]
        },
        "outputId": "e4fc8a91-9b74-432a-8f78-03a367d0a826"
      },
      "execution_count": 63,
      "outputs": [
        {
          "output_type": "display_data",
          "data": {
            "text/plain": [
              "Batches:   0%|          | 0/1 [00:00<?, ?it/s]"
            ],
            "application/vnd.jupyter.widget-view+json": {
              "version_major": 2,
              "version_minor": 0,
              "model_id": "df009c069c464264902e1b8aee40a135"
            }
          },
          "metadata": {}
        },
        {
          "output_type": "execute_result",
          "data": {
            "text/plain": [
              "{'documents': [Document(id=The cat is on the table, embedding: vector of size 1024)]}"
            ]
          },
          "metadata": {},
          "execution_count": 63
        }
      ]
    },
    {
      "cell_type": "markdown",
      "source": [
        "### Define the document writer\n",
        "`DocumentWriter` writes a list of Documents into a Document Store. It's typically used in an indexing pipeline as the final step after preprocessing Documents and creating their embeddings."
      ],
      "metadata": {
        "id": "SWFs9O1Tq4RW"
      }
    },
    {
      "cell_type": "code",
      "source": [
        "document_writer = DocumentWriter(\n",
        "    document_store=document_store,\n",
        "    # if duplicates are identified during the writing phase, they are overwritten\n",
        "    policy=DuplicatePolicy.OVERWRITE\n",
        ")"
      ],
      "metadata": {
        "id": "WxrL38B-q4YR"
      },
      "execution_count": 64,
      "outputs": []
    },
    {
      "cell_type": "markdown",
      "source": [
        "## Create the indexing Pipeline\n",
        "The pipelines in Haystack are directed multigraphs of different Haystack components and integrations. They give the freedom to connect these components in various ways. This means that the pipeline doesn't need to be a continuous stream of information.\n",
        "\n",
        "\n",
        "### Steps to Create a Pipeline Explained\n",
        "Once all components are created and ready to be combined in a Pipeline, there are four steps to make it work:\n",
        "\n",
        "1. **Create the Pipeline with Pipeline**: creates the Pipeline object\n",
        "2. **Add components to the Pipeline**: adds components to the Pipeline, without connecting them yet. It's especially useful for loops as it allows to smoothly connect the components in the next step because they all already exist in the Pipeline\n",
        "3. **Connect the Pipeline components**: at this step, you explicitly connect one of the outputs of a component to one of the inputs of the next component. This is also when the Pipeline validates the connection without running the components. It makes the validation fast\n",
        "4. **Run the Pipeline**: finally, you run the Pipeline by specifying the first component in the Pipeline and passing its mandatory inputs"
      ],
      "metadata": {
        "id": "iKboVU8p-DjL"
      }
    },
    {
      "cell_type": "code",
      "source": [
        "# Add components to your pipeline\n",
        "indexing_pipeline = Pipeline()\n",
        "indexing_pipeline.add_component(name=\"cleaner\", instance=document_cleaner)\n",
        "indexing_pipeline.add_component(name=\"splitter\", instance=document_splitter)\n",
        "indexing_pipeline.add_component(name=\"embedder\", instance=document_embedder)\n",
        "indexing_pipeline.add_component(name=\"writer\", instance=document_writer)\n",
        "\n",
        "# Now, connect the components to each other\n",
        "indexing_pipeline.connect(sender=\"cleaner\", receiver=\"splitter\")\n",
        "indexing_pipeline.connect(sender=\"splitter\", receiver=\"embedder\")\n",
        "indexing_pipeline.connect(sender=\"embedder\", receiver=\"writer\")"
      ],
      "metadata": {
        "id": "B9tmM_jZ-CGS",
        "colab": {
          "base_uri": "https://localhost:8080/"
        },
        "outputId": "86442cab-42ba-4ee2-9470-55857e184cb1"
      },
      "execution_count": 65,
      "outputs": [
        {
          "output_type": "execute_result",
          "data": {
            "text/plain": [
              "<haystack.core.pipeline.pipeline.Pipeline object at 0x7ed3e824d910>\n",
              "🚅 Components\n",
              "  - cleaner: DocumentCleaner\n",
              "  - splitter: DocumentSplitter\n",
              "  - embedder: SentenceTransformersDocumentEmbedder\n",
              "  - writer: DocumentWriter\n",
              "🛤️ Connections\n",
              "  - cleaner.documents -> splitter.documents (List[Document])\n",
              "  - splitter.documents -> embedder.documents (List[Document])\n",
              "  - embedder.documents -> writer.documents (List[Document])"
            ]
          },
          "metadata": {},
          "execution_count": 65
        }
      ]
    },
    {
      "cell_type": "markdown",
      "source": [
        "### Visualize the indexing Pipeline\n",
        "Is possible to visualize the created pipelines as graphs to better understand how the components are connected."
      ],
      "metadata": {
        "id": "mXnrKAKeiT9Y"
      }
    },
    {
      "cell_type": "code",
      "source": [
        "indexing_pipeline.draw(path=\"indexing_pipeline.png\")\n",
        "Image(\"indexing_pipeline.png\")"
      ],
      "metadata": {
        "id": "Db8soKPWh-Kc",
        "colab": {
          "base_uri": "https://localhost:8080/",
          "height": 1000
        },
        "outputId": "fbd6799b-e31e-42b3-b1eb-1a7f48fc5a79"
      },
      "execution_count": 66,
      "outputs": [
        {
          "output_type": "execute_result",
          "data": {
            "image/png": "[encoded data removed]",
            "text/plain": [
              "<IPython.core.display.Image object>"
            ]
          },
          "metadata": {},
          "execution_count": 66
        }
      ]
    },
    {
      "cell_type": "markdown",
      "source": [
        "### Serialize the indexing Pipeline\n",
        "For production systems is possible to serialize the created Pipeline as YAML configuration."
      ],
      "metadata": {
        "id": "Ihiw1OhbtI3h"
      }
    },
    {
      "cell_type": "code",
      "source": [
        "yaml_pipeline = indexing_pipeline.dumps()\n",
        "rich.print(yaml_pipeline)"
      ],
      "metadata": {
        "id": "afmURmNLtJHd",
        "colab": {
          "base_uri": "https://localhost:8080/",
          "height": 1000
        },
        "outputId": "5a0f7e54-2639-48bc-a371-b6c064335014"
      },
      "execution_count": 67,
      "outputs": [
        {
          "output_type": "display_data",
          "data": {
            "text/plain": [
              "components:\n",
              "  cleaner:\n",
              "    init_parameters:\n",
              "      ascii_only: false\n",
              "      keep_id: false\n",
              "      remove_empty_lines: true\n",
              "      remove_extra_whitespaces: true\n",
              "      remove_regex: null\n",
              "      remove_repeated_substrings: false\n",
              "      remove_substrings: null\n",
              "      unicode_normalization: null\n",
              "    type: haystack.components.preprocessors.document_cleaner.DocumentCleaner\n",
              "  embedder:\n",
              "    init_parameters:\n",
              "      backend: torch\n",
              "      batch_size: \u001b[1;36m32\u001b[0m\n",
              "      config_kwargs: null\n",
              "      device:\n",
              "        device: cu\u001b[1;92mda:0\u001b[0m\n",
              "        type: single\n",
              "      embedding_separator: '\n",
              "\n",
              "        '\n",
              "      encode_kwargs: null\n",
              "      meta_fields_to_embed:\n",
              "      - name\n",
              "      - year\n",
              "      - genre\n",
              "      - cast\n",
              "      model: BAAI/bge-large-en-v1.\u001b[1;36m5\u001b[0m\n",
              "      model_kwargs: null\n",
              "      normalize_embeddings: false\n",
              "      precision: float32\n",
              "      prefix: \u001b[32m''\u001b[0m\n",
              "      progress_bar: true\n",
              "      suffix: \u001b[32m''\u001b[0m\n",
              "      token:\n",
              "        env_vars:\n",
              "        - HF_API_TOKEN\n",
              "        - HF_TOKEN\n",
              "        strict: false\n",
              "        type: env_var\n",
              "      tokenizer_kwargs: null\n",
              "      truncate_dim: null\n",
              "      trust_remote_code: false\n",
              "    type: \n",
              "haystack.components.embedders.sentence_transformers_document_embedder.SentenceTransformersDocumentEmbedder\n",
              "  splitter:\n",
              "    init_parameters:\n",
              "      extend_abbreviations: true\n",
              "      language: en\n",
              "      respect_sentence_boundary: false\n",
              "      split_by: word\n",
              "      split_length: \u001b[1;36m256\u001b[0m\n",
              "      split_overlap: \u001b[1;36m0\u001b[0m\n",
              "      split_threshold: \u001b[1;36m0\u001b[0m\n",
              "      use_split_rules: true\n",
              "    type: haystack.components.preprocessors.document_splitter.DocumentSplitter\n",
              "  writer:\n",
              "    init_parameters:\n",
              "      document_store:\n",
              "        init_parameters:\n",
              "          bm25_algorithm: BM25L\n",
              "          bm25_parameters: \u001b[1m{\u001b[0m\u001b[1m}\u001b[0m\n",
              "          bm25_tokenization_regex: \u001b[1m(\u001b[0m?u\u001b[1m)\u001b[0m\\b\\w\\w+\\b\n",
              "          embedding_similarity_function: cosine\n",
              "          index: \u001b[93m78f25f37-7425-41e9-a4af-f645b6080368\u001b[0m\n",
              "        type: haystack.document_stores.in_memory.document_store.InMemoryDocumentStore\n",
              "      policy: OVERWRITE\n",
              "    type: haystack.components.writers.document_writer.DocumentWriter\n",
              "connection_type_validation: true\n",
              "connections:\n",
              "- receiver: splitter.documents\n",
              "  sender: cleaner.documents\n",
              "- receiver: embedder.documents\n",
              "  sender: splitter.documents\n",
              "- receiver: writer.documents\n",
              "  sender: embedder.documents\n",
              "max_runs_per_component: \u001b[1;36m100\u001b[0m\n",
              "metadata: \u001b[1m{\u001b[0m\u001b[1m}\u001b[0m\n",
              "\n"
            ],
            "text/html": [
              "<pre style=\"white-space:pre;overflow-x:auto;line-height:normal;font-family:Menlo,'DejaVu Sans Mono',consolas,'Courier New',monospace\">components:\n",
              "  cleaner:\n",
              "    init_parameters:\n",
              "      ascii_only: false\n",
              "      keep_id: false\n",
              "      remove_empty_lines: true\n",
              "      remove_extra_whitespaces: true\n",
              "      remove_regex: null\n",
              "      remove_repeated_substrings: false\n",
              "      remove_substrings: null\n",
              "      unicode_normalization: null\n",
              "    type: haystack.components.preprocessors.document_cleaner.DocumentCleaner\n",
              "  embedder:\n",
              "    init_parameters:\n",
              "      backend: torch\n",
              "      batch_size: <span style=\"color: #008080; text-decoration-color: #008080; font-weight: bold\">32</span>\n",
              "      config_kwargs: null\n",
              "      device:\n",
              "        device: cu<span style=\"color: #00ff00; text-decoration-color: #00ff00; font-weight: bold\">da:0</span>\n",
              "        type: single\n",
              "      embedding_separator: '\n",
              "\n",
              "        '\n",
              "      encode_kwargs: null\n",
              "      meta_fields_to_embed:\n",
              "      - name\n",
              "      - year\n",
              "      - genre\n",
              "      - cast\n",
              "      model: BAAI/bge-large-en-v1.<span style=\"color: #008080; text-decoration-color: #008080; font-weight: bold\">5</span>\n",
              "      model_kwargs: null\n",
              "      normalize_embeddings: false\n",
              "      precision: float32\n",
              "      prefix: <span style=\"color: #008000; text-decoration-color: #008000\">''</span>\n",
              "      progress_bar: true\n",
              "      suffix: <span style=\"color: #008000; text-decoration-color: #008000\">''</span>\n",
              "      token:\n",
              "        env_vars:\n",
              "        - HF_API_TOKEN\n",
              "        - HF_TOKEN\n",
              "        strict: false\n",
              "        type: env_var\n",
              "      tokenizer_kwargs: null\n",
              "      truncate_dim: null\n",
              "      trust_remote_code: false\n",
              "    type: \n",
              "haystack.components.embedders.sentence_transformers_document_embedder.SentenceTransformersDocumentEmbedder\n",
              "  splitter:\n",
              "    init_parameters:\n",
              "      extend_abbreviations: true\n",
              "      language: en\n",
              "      respect_sentence_boundary: false\n",
              "      split_by: word\n",
              "      split_length: <span style=\"color: #008080; text-decoration-color: #008080; font-weight: bold\">256</span>\n",
              "      split_overlap: <span style=\"color: #008080; text-decoration-color: #008080; font-weight: bold\">0</span>\n",
              "      split_threshold: <span style=\"color: #008080; text-decoration-color: #008080; font-weight: bold\">0</span>\n",
              "      use_split_rules: true\n",
              "    type: haystack.components.preprocessors.document_splitter.DocumentSplitter\n",
              "  writer:\n",
              "    init_parameters:\n",
              "      document_store:\n",
              "        init_parameters:\n",
              "          bm25_algorithm: BM25L\n",
              "          bm25_parameters: <span style=\"font-weight: bold\">{}</span>\n",
              "          bm25_tokenization_regex: <span style=\"font-weight: bold\">(</span>?u<span style=\"font-weight: bold\">)</span>\\b\\w\\w+\\b\n",
              "          embedding_similarity_function: cosine\n",
              "          index: <span style=\"color: #ffff00; text-decoration-color: #ffff00\">78f25f37-7425-41e9-a4af-f645b6080368</span>\n",
              "        type: haystack.document_stores.in_memory.document_store.InMemoryDocumentStore\n",
              "      policy: OVERWRITE\n",
              "    type: haystack.components.writers.document_writer.DocumentWriter\n",
              "connection_type_validation: true\n",
              "connections:\n",
              "- receiver: splitter.documents\n",
              "  sender: cleaner.documents\n",
              "- receiver: embedder.documents\n",
              "  sender: splitter.documents\n",
              "- receiver: writer.documents\n",
              "  sender: embedder.documents\n",
              "max_runs_per_component: <span style=\"color: #008080; text-decoration-color: #008080; font-weight: bold\">100</span>\n",
              "metadata: <span style=\"font-weight: bold\">{}</span>\n",
              "\n",
              "</pre>\n"
            ]
          },
          "metadata": {}
        }
      ]
    },
    {
      "cell_type": "markdown",
      "source": [
        "#### Compute the number of batches for the indexing Pipeline\n",
        "The value may be slightly different due to rounding error."
      ],
      "metadata": {
        "id": "eXJ0wWeyvKoG"
      }
    },
    {
      "cell_type": "code",
      "source": [
        "from langchain.text_splitter import CharacterTextSplitter\n",
        "\n",
        "# Se df_documents è una lista di stringhe, uniscile in un unico testo\n",
        "if isinstance(df_documents, list):\n",
        "    pdf_text = \"\\n\".join(df_documents)  # Concatena tutto il testo con un salto di riga\n",
        "    print(f\"Testo unito da lista: {pdf_text[:500]}...\")  # Mostra solo i primi 500 caratteri\n",
        "else:\n",
        "    pdf_text = str(df_documents)  # Converte in stringa se non è già\n",
        "    print(f\"Testo fornito direttamente: {pdf_text[:500]}...\")  # Mostra solo i primi 500 caratteri\n",
        "\n",
        "# Suddividere il testo in chunk\n",
        "text_splitter = CharacterTextSplitter(chunk_size=1000, chunk_overlap=200)\n",
        "chunks = text_splitter.split_text(pdf_text)  # Ora funziona senza errori\n",
        "\n",
        "print(f\"Numero totale di chunk: {len(chunks)}\")  # Mostra il numero totale di chunk\n",
        "\n",
        "# Calcolare i batch\n",
        "batch_size = 5  # Imposta la dimensione del batch (modifica se necessario)\n",
        "batches = len(chunks) // batch_size\n",
        "if len(chunks) % batch_size != 0:\n",
        "    batches += 1  # Se ci sono pezzi rimanenti, aggiungiamo un batch extra\n",
        "\n",
        "print(f\"Numero di batch: {batches}\")  # Mostra il numero di batch calcolato\n"
      ],
      "metadata": {
        "id": "mPu8cfoevFkG",
        "colab": {
          "base_uri": "https://localhost:8080/"
        },
        "outputId": "2e0d20ca-57be-4726-ad3e-c30b79998737"
      },
      "execution_count": 68,
      "outputs": [
        {
          "output_type": "stream",
          "name": "stderr",
          "text": [
            "WARNING:langchain_text_splitters.base:Created a chunk of size 11821, which is longer than the specified 1000\n",
            "WARNING:langchain_text_splitters.base:Created a chunk of size 68478, which is longer than the specified 1000\n",
            "WARNING:langchain_text_splitters.base:Created a chunk of size 2404, which is longer than the specified 1000\n",
            "WARNING:langchain_text_splitters.base:Created a chunk of size 21905, which is longer than the specified 1000\n",
            "WARNING:langchain_text_splitters.base:Created a chunk of size 59799, which is longer than the specified 1000\n",
            "WARNING:langchain_text_splitters.base:Created a chunk of size 8835, which is longer than the specified 1000\n",
            "WARNING:langchain_text_splitters.base:Created a chunk of size 16341, which is longer than the specified 1000\n",
            "WARNING:langchain_text_splitters.base:Created a chunk of size 11275, which is longer than the specified 1000\n",
            "WARNING:langchain_text_splitters.base:Created a chunk of size 4601, which is longer than the specified 1000\n",
            "WARNING:langchain_text_splitters.base:Created a chunk of size 1994, which is longer than the specified 1000\n",
            "WARNING:langchain_text_splitters.base:Created a chunk of size 9318, which is longer than the specified 1000\n",
            "WARNING:langchain_text_splitters.base:Created a chunk of size 2172, which is longer than the specified 1000\n",
            "WARNING:langchain_text_splitters.base:Created a chunk of size 11932, which is longer than the specified 1000\n",
            "WARNING:langchain_text_splitters.base:Created a chunk of size 32868, which is longer than the specified 1000\n",
            "WARNING:langchain_text_splitters.base:Created a chunk of size 2196, which is longer than the specified 1000\n",
            "WARNING:langchain_text_splitters.base:Created a chunk of size 13985, which is longer than the specified 1000\n",
            "WARNING:langchain_text_splitters.base:Created a chunk of size 8406, which is longer than the specified 1000\n",
            "WARNING:langchain_text_splitters.base:Created a chunk of size 3987, which is longer than the specified 1000\n",
            "WARNING:langchain_text_splitters.base:Created a chunk of size 1908, which is longer than the specified 1000\n",
            "WARNING:langchain_text_splitters.base:Created a chunk of size 10003, which is longer than the specified 1000\n"
          ]
        },
        {
          "output_type": "stream",
          "name": "stdout",
          "text": [
            "Testo unito da lista: ASSOCIAZIONE ITALIANA ARBITRI  \n",
            " \n",
            " \n",
            " \n",
            " \n",
            "Il Regolamento del Giuoco del Calcio \n",
            "corredato delle Decisioni Ufficiali FIGC \n",
            "e della Guida Pratica AIA  \n",
            " \n",
            " \n",
            " \n",
            " \n",
            " \n",
            " \n",
            "Edizione 2023  \n",
            "Aggiornata al 1° luglio \n",
            " \n",
            " \n",
            " \n",
            "THE INTERNATIONAL FOOTBALL ASSOCIATION BOARD (IFAB)  \n",
            "Münstergasse, 9 \n",
            "8001 Zurich \n",
            " \n",
            " \n",
            " \n",
            "FEDERAZIONE ITALIANA GIUOCO CALCIO (FIGC)  \n",
            "Via Gregorio Allegri, 14  \n",
            "00198 Roma \n",
            " \n",
            " \n",
            " \n",
            "ASSOCIAZIONE ITALIANA ARBITRI (AIA)  \n",
            "Via Campania, 47  \n",
            "00187 Roma  \n",
            " \n",
            " \n",
            " \n",
            " \n",
            " \n",
            " \n",
            " \n",
            " \n",
            " \n",
            " \n",
            "a cura del Settore Tecni...\n",
            "Numero totale di chunk: 21\n",
            "Numero di batch: 5\n"
          ]
        }
      ]
    },
    {
      "cell_type": "markdown",
      "source": [
        "### Run the indexing Pipeline\n",
        "With the `run` method is possible to execute the created Pipeline on the input data."
      ],
      "metadata": {
        "id": "HkpASBmerBS5"
      }
    },
    {
      "cell_type": "code",
      "source": [
        "! pip install farm-haystack"
      ],
      "metadata": {
        "colab": {
          "base_uri": "https://localhost:8080/"
        },
        "id": "yFrM3tVw_K5H",
        "outputId": "c3b8803f-0ca9-407a-848c-b549cdfb4e11"
      },
      "execution_count": 69,
      "outputs": [
        {
          "output_type": "stream",
          "name": "stdout",
          "text": [
            "Requirement already satisfied: farm-haystack in /usr/local/lib/python3.11/dist-packages (1.26.4)\n",
            "Requirement already satisfied: boilerpy3 in /usr/local/lib/python3.11/dist-packages (from farm-haystack) (1.0.7)\n",
            "Requirement already satisfied: events in /usr/local/lib/python3.11/dist-packages (from farm-haystack) (0.5)\n",
            "Requirement already satisfied: httpx in /usr/local/lib/python3.11/dist-packages (from farm-haystack) (0.28.1)\n",
            "Requirement already satisfied: jsonschema in /usr/local/lib/python3.11/dist-packages (from farm-haystack) (4.23.0)\n",
            "Requirement already satisfied: lazy-imports==0.3.1 in /usr/local/lib/python3.11/dist-packages (from farm-haystack) (0.3.1)\n",
            "Requirement already satisfied: more-itertools in /usr/local/lib/python3.11/dist-packages (from farm-haystack) (10.6.0)\n",
            "Requirement already satisfied: networkx in /usr/local/lib/python3.11/dist-packages (from farm-haystack) (3.4.2)\n",
            "Requirement already satisfied: pandas in /usr/local/lib/python3.11/dist-packages (from farm-haystack) (2.2.2)\n",
            "Requirement already satisfied: pillow in /usr/local/lib/python3.11/dist-packages (from farm-haystack) (11.1.0)\n",
            "Requirement already satisfied: platformdirs in /usr/local/lib/python3.11/dist-packages (from farm-haystack) (4.3.7)\n",
            "Requirement already satisfied: posthog in /usr/local/lib/python3.11/dist-packages (from farm-haystack) (3.21.0)\n",
            "Requirement already satisfied: prompthub-py==4.0.0 in /usr/local/lib/python3.11/dist-packages (from farm-haystack) (4.0.0)\n",
            "Requirement already satisfied: pydantic<2 in /usr/local/lib/python3.11/dist-packages (from farm-haystack) (1.10.21)\n",
            "Requirement already satisfied: quantulum3 in /usr/local/lib/python3.11/dist-packages (from farm-haystack) (0.9.2)\n",
            "Requirement already satisfied: rank-bm25 in /usr/local/lib/python3.11/dist-packages (from farm-haystack) (0.2.2)\n",
            "Requirement already satisfied: requests in /usr/local/lib/python3.11/dist-packages (from farm-haystack) (2.32.3)\n",
            "Requirement already satisfied: requests-cache<1.0.0 in /usr/local/lib/python3.11/dist-packages (from farm-haystack) (0.9.8)\n",
            "Requirement already satisfied: scikit-learn>=1.3.0 in /usr/local/lib/python3.11/dist-packages (from farm-haystack) (1.6.1)\n",
            "Requirement already satisfied: sseclient-py in /usr/local/lib/python3.11/dist-packages (from farm-haystack) (1.8.0)\n",
            "Requirement already satisfied: tenacity in /usr/local/lib/python3.11/dist-packages (from farm-haystack) (9.0.0)\n",
            "Requirement already satisfied: tiktoken>=0.5.1 in /usr/local/lib/python3.11/dist-packages (from farm-haystack) (0.9.0)\n",
            "Requirement already satisfied: tqdm in /usr/local/lib/python3.11/dist-packages (from farm-haystack) (4.67.1)\n",
            "Requirement already satisfied: transformers<5.0,>=4.46 in /usr/local/lib/python3.11/dist-packages (from farm-haystack) (4.49.0)\n",
            "Requirement already satisfied: pyyaml<7.0,>=6.0 in /usr/local/lib/python3.11/dist-packages (from prompthub-py==4.0.0->farm-haystack) (6.0.2)\n",
            "Requirement already satisfied: typing-extensions>=4.2.0 in /usr/local/lib/python3.11/dist-packages (from pydantic<2->farm-haystack) (4.12.2)\n",
            "Requirement already satisfied: charset-normalizer<4,>=2 in /usr/local/lib/python3.11/dist-packages (from requests->farm-haystack) (3.4.1)\n",
            "Requirement already satisfied: idna<4,>=2.5 in /usr/local/lib/python3.11/dist-packages (from requests->farm-haystack) (3.10)\n",
            "Requirement already satisfied: urllib3<3,>=1.21.1 in /usr/local/lib/python3.11/dist-packages (from requests->farm-haystack) (2.3.0)\n",
            "Requirement already satisfied: certifi>=2017.4.17 in /usr/local/lib/python3.11/dist-packages (from requests->farm-haystack) (2025.1.31)\n",
            "Requirement already satisfied: appdirs>=1.4.4 in /usr/local/lib/python3.11/dist-packages (from requests-cache<1.0.0->farm-haystack) (1.4.4)\n",
            "Requirement already satisfied: attrs>=21.2 in /usr/local/lib/python3.11/dist-packages (from requests-cache<1.0.0->farm-haystack) (25.3.0)\n",
            "Requirement already satisfied: cattrs>=22.2 in /usr/local/lib/python3.11/dist-packages (from requests-cache<1.0.0->farm-haystack) (24.1.2)\n",
            "Requirement already satisfied: url-normalize>=1.4 in /usr/local/lib/python3.11/dist-packages (from requests-cache<1.0.0->farm-haystack) (1.4.3)\n",
            "Requirement already satisfied: numpy>=1.19.5 in /usr/local/lib/python3.11/dist-packages (from scikit-learn>=1.3.0->farm-haystack) (2.0.2)\n",
            "Requirement already satisfied: scipy>=1.6.0 in /usr/local/lib/python3.11/dist-packages (from scikit-learn>=1.3.0->farm-haystack) (1.14.1)\n",
            "Requirement already satisfied: joblib>=1.2.0 in /usr/local/lib/python3.11/dist-packages (from scikit-learn>=1.3.0->farm-haystack) (1.4.2)\n",
            "Requirement already satisfied: threadpoolctl>=3.1.0 in /usr/local/lib/python3.11/dist-packages (from scikit-learn>=1.3.0->farm-haystack) (3.6.0)\n",
            "Requirement already satisfied: regex>=2022.1.18 in /usr/local/lib/python3.11/dist-packages (from tiktoken>=0.5.1->farm-haystack) (2024.11.6)\n",
            "Requirement already satisfied: filelock in /usr/local/lib/python3.11/dist-packages (from transformers<5.0,>=4.46->farm-haystack) (3.18.0)\n",
            "Requirement already satisfied: huggingface-hub<1.0,>=0.26.0 in /usr/local/lib/python3.11/dist-packages (from transformers<5.0,>=4.46->farm-haystack) (0.29.3)\n",
            "Requirement already satisfied: packaging>=20.0 in /usr/local/lib/python3.11/dist-packages (from transformers<5.0,>=4.46->farm-haystack) (24.2)\n",
            "Requirement already satisfied: tokenizers<0.22,>=0.21 in /usr/local/lib/python3.11/dist-packages (from transformers<5.0,>=4.46->farm-haystack) (0.21.1)\n",
            "Requirement already satisfied: safetensors>=0.4.1 in /usr/local/lib/python3.11/dist-packages (from transformers<5.0,>=4.46->farm-haystack) (0.5.3)\n",
            "Requirement already satisfied: anyio in /usr/local/lib/python3.11/dist-packages (from httpx->farm-haystack) (4.9.0)\n",
            "Requirement already satisfied: httpcore==1.* in /usr/local/lib/python3.11/dist-packages (from httpx->farm-haystack) (1.0.7)\n",
            "Requirement already satisfied: h11<0.15,>=0.13 in /usr/local/lib/python3.11/dist-packages (from httpcore==1.*->httpx->farm-haystack) (0.14.0)\n",
            "Requirement already satisfied: jsonschema-specifications>=2023.03.6 in /usr/local/lib/python3.11/dist-packages (from jsonschema->farm-haystack) (2024.10.1)\n",
            "Requirement already satisfied: referencing>=0.28.4 in /usr/local/lib/python3.11/dist-packages (from jsonschema->farm-haystack) (0.36.2)\n",
            "Requirement already satisfied: rpds-py>=0.7.1 in /usr/local/lib/python3.11/dist-packages (from jsonschema->farm-haystack) (0.23.1)\n",
            "Requirement already satisfied: python-dateutil>=2.8.2 in /usr/local/lib/python3.11/dist-packages (from pandas->farm-haystack) (2.8.2)\n",
            "Requirement already satisfied: pytz>=2020.1 in /usr/local/lib/python3.11/dist-packages (from pandas->farm-haystack) (2025.1)\n",
            "Requirement already satisfied: tzdata>=2022.7 in /usr/local/lib/python3.11/dist-packages (from pandas->farm-haystack) (2025.1)\n",
            "Requirement already satisfied: six>=1.5 in /usr/local/lib/python3.11/dist-packages (from posthog->farm-haystack) (1.17.0)\n",
            "Requirement already satisfied: monotonic>=1.5 in /usr/local/lib/python3.11/dist-packages (from posthog->farm-haystack) (1.6)\n",
            "Requirement already satisfied: backoff>=1.10.0 in /usr/local/lib/python3.11/dist-packages (from posthog->farm-haystack) (2.2.1)\n",
            "Requirement already satisfied: distro>=1.5.0 in /usr/local/lib/python3.11/dist-packages (from posthog->farm-haystack) (1.9.0)\n",
            "Requirement already satisfied: inflect in /usr/local/lib/python3.11/dist-packages (from quantulum3->farm-haystack) (7.5.0)\n",
            "Requirement already satisfied: num2words in /usr/local/lib/python3.11/dist-packages (from quantulum3->farm-haystack) (0.5.14)\n",
            "Requirement already satisfied: fsspec>=2023.5.0 in /usr/local/lib/python3.11/dist-packages (from huggingface-hub<1.0,>=0.26.0->transformers<5.0,>=4.46->farm-haystack) (2025.3.0)\n",
            "Requirement already satisfied: sniffio>=1.1 in /usr/local/lib/python3.11/dist-packages (from anyio->httpx->farm-haystack) (1.3.1)\n",
            "Requirement already satisfied: typeguard>=4.0.1 in /usr/local/lib/python3.11/dist-packages (from inflect->quantulum3->farm-haystack) (4.4.2)\n",
            "Requirement already satisfied: docopt>=0.6.2 in /usr/local/lib/python3.11/dist-packages (from num2words->quantulum3->farm-haystack) (0.6.2)\n"
          ]
        }
      ]
    },
    {
      "cell_type": "code",
      "source": [
        "\n",
        "\n",
        "\n",
        "# Creazione dei Documenti da ciascun chunk\n",
        "documents = [Document(content=chunk) for chunk in chunks]  # Ogni chunk diventa un documento\n",
        "\n",
        "# Esegui l'indicizzazione\n",
        "indexing_pipeline.run(\n",
        "    data={\"cleaner\": {\"documents\": documents}},\n",
        "    # debug=False\n",
        ")\n"
      ],
      "metadata": {
        "id": "5GoISke1b6BY",
        "colab": {
          "base_uri": "https://localhost:8080/",
          "height": 66,
          "referenced_widgets": [
            "0b3fe5c905b54069954fac4db7d323d6",
            "ad46dbf08de946979fad3bc1499bb9c3",
            "1210a5c7c8214a97b939fdcd5319431f",
            "5879223aad8d411db52602c1c68bcbd1",
            "744ac3c0169e463186491ae8501473f9",
            "74bf69e4226a441aa38f7a4a9707822f",
            "feae12f2a8f84ddab74c3ab4924bf2c6",
            "c4490be56149415bae39842e5d27df90",
            "818c05e2c62d45708d820a9da767e274",
            "9dbb4eb0766a44698d18ec84d3a22ddb",
            "4149456f50f744e6970954eedad685ff"
          ]
        },
        "outputId": "e942a1d6-8a52-48bd-adcc-871547b74388"
      },
      "execution_count": 70,
      "outputs": [
        {
          "output_type": "display_data",
          "data": {
            "text/plain": [
              "Batches:   0%|          | 0/7 [00:00<?, ?it/s]"
            ],
            "application/vnd.jupyter.widget-view+json": {
              "version_major": 2,
              "version_minor": 0,
              "model_id": "0b3fe5c905b54069954fac4db7d323d6"
            }
          },
          "metadata": {}
        },
        {
          "output_type": "execute_result",
          "data": {
            "text/plain": [
              "{'writer': {'documents_written': 204}}"
            ]
          },
          "metadata": {},
          "execution_count": 70
        }
      ]
    },
    {
      "cell_type": "markdown",
      "source": [
        "## The RAG Pipeline\n",
        "The RAG Pipeline finds Documents relevant to the user query and pass them to the LLM to generate a grounded answer.  \n",
        "Here we chose to develop a hybrid Pipeline supported by a Re-Ranker model in order to show a sophisticated solution for building RAG systems.\n",
        "\n",
        "\n",
        "<center>Flow of the RAG Pipeline</center>\n",
        "<img src=https://haystack.deepset.ai/blog/hybrid-retrieval/reranker.png>"
      ],
      "metadata": {
        "id": "bxLazyNtrHJ4"
      }
    },
    {
      "cell_type": "markdown",
      "source": [
        "### Define the text vectorization Pipeline\n",
        "Retrieval happens when the system tries to quickly find the documents from the index that satisfy the search criteria. The goal of the retriever is to get documents that will be used to provide context and ground the LLM on your data.\n",
        "\n",
        "There are several ways to perform search within our database such as:\n",
        "\n",
        "* **keyword search**: used for text searches using a modified version of tf-idf called [BM25](https://github.com/dorianbrown/rank_bm25)\n",
        "\n",
        "* **semantic search**: uses the semantic meaning of words\n",
        "\n",
        "* **vector search**: converts documents from text to vector representations using embedding models. Retrieval will be done by querying the documents whose vector representations are closest to the user question.\n",
        "\n",
        "* **hybrid**: refers to the combination of multiple retrieval methods to enhance overall performance. In the context of search systems, a hybrid retrieval pipeline executes both traditional keyword-based search and dense vector search, later ranking the results with a cross-encoder model. This combination allows the search system to leverage the strengths of different approaches, providing more accurate and diverse results.\n",
        "\n",
        "**Sources**\n",
        "* https://haystack.deepset.ai/blog/hybrid-retrieval"
      ],
      "metadata": {
        "id": "yEGfbpSiYCBI"
      }
    },
    {
      "cell_type": "code",
      "source": [
        "text_embedder = SentenceTransformersTextEmbedder(\n",
        "    model=\"BAAI/bge-large-en-v1.5\",\n",
        "    device=ComponentDevice.from_str(\"cuda:0\"),\n",
        "    # token=None,\n",
        "    prefix='',\n",
        "    suffix='',\n",
        "    batch_size=32,\n",
        "    progress_bar=True,\n",
        "    normalize_embeddings=False\n",
        ")\n",
        "\n",
        "bm25_retriever = InMemoryBM25Retriever(\n",
        "    document_store=document_store,\n",
        "    filters=None,\n",
        "    top_k=10,\n",
        "    scale_score=False\n",
        ")\n",
        "\n",
        "embedding_retriever = InMemoryEmbeddingRetriever(\n",
        "    document_store=document_store,\n",
        "    filters=None,\n",
        "    top_k=10,\n",
        "    scale_score=False,\n",
        "    return_embedding=False\n",
        ")\n",
        "\n",
        "document_joiner = DocumentJoiner(\n",
        "    join_mode='concatenate',\n",
        "    weights=None,\n",
        "    top_k=None,\n",
        "    sort_by_score=True\n",
        ")"
      ],
      "metadata": {
        "id": "N6BK0pku0aAs"
      },
      "execution_count": 71,
      "outputs": []
    },
    {
      "cell_type": "markdown",
      "source": [
        "### Define the Ranker model\n",
        "`TransformersSimilarityRanker` ranks Documents based on how similar they are to the query. It uses a pre-trained cross-encoder model from the Hugging Face Hub to embed both the query and the Documents. It then compares the embeddings to determine how similar they are. The result is a list of Document objects in ranked order, with the Documents most similar to the query appearing first.  \n",
        "\n",
        "`TransformersSimilarityRanker` is most useful in query pipelines, such as a retrieval-augmented generation (RAG) pipeline or a document search pipeline, to ensure the retrieved Documents are ordered by relevance. When using it with a `Retriever`, consider setting the Retriever's `top_k` to a small number. This way the `Ranker` will have fewer Documents to process which can help make your pipeline faster."
      ],
      "metadata": {
        "id": "PXboJjfaYMLf"
      }
    },
    {
      "cell_type": "code",
      "source": [
        "ranker = TransformersSimilarityRanker(\n",
        "    model='BAAI/bge-reranker-base',\n",
        "    device=None,\n",
        "    # token=None,\n",
        "    top_k=5,\n",
        "    query_prefix='',\n",
        "    document_prefix='',\n",
        "    meta_fields_to_embed=None,\n",
        "    embedding_separator='\\n',\n",
        "    scale_score=True,\n",
        "    calibration_factor=1.0,\n",
        "    score_threshold=None,\n",
        "    model_kwargs=None\n",
        ")\n",
        "ranker.warm_up()"
      ],
      "metadata": {
        "id": "7UtDMgeLrcUa"
      },
      "execution_count": 72,
      "outputs": []
    },
    {
      "cell_type": "markdown",
      "source": [
        "### Define the PromptBuilder\n",
        "Use this component in pipelines before a Generator to render a prompt template and fill in variable values.\n",
        "The template that is provided to the `PromptBuilder` during initialization needs to conform to the Jinja2 template language.\n",
        "\n",
        " Let's setup the prompt builder, with a format like the following (appropriate for Zephyr):\n",
        "\n",
        " ```python\n",
        " \"<|system|>\\nSYSTEM MESSAGE</s>\\n<|user|>\\nUSER MESSAGE</s>\\n<|assistant|>\\n\"\n",
        " ```\n",
        "\n",
        "**Sources**  \n",
        "Useful resource for prompting: [Hugging Face - LLM prompting guide](https://huggingface.co/docs/transformers/main/tasks/prompting)"
      ],
      "metadata": {
        "id": "UyLWJ6Z5YO-Q"
      }
    },
    {
      "cell_type": "code",
      "source": [
        "prompt_template = \"\"\"<|system|>Using the information contained in the context, give a comprehensive answer to the question.\n",
        "If the answer cannot be deduced from the context, do not give an answer.</s>\n",
        "<|user|>\n",
        "Context:\n",
        "  {% for doc in documents %}\n",
        "  name: {{ doc.meta['name'] }} content: {{ doc.content }}\n",
        "  {% endfor %};\n",
        "Question: {{query}}\n",
        "</s>\n",
        "<|assistant|>\n",
        "\"\"\"\n",
        "\n",
        "prompt_builder = PromptBuilder(template=prompt_template)"
      ],
      "metadata": {
        "id": "uhmsDUbdS3PR"
      },
      "execution_count": 73,
      "outputs": []
    },
    {
      "cell_type": "markdown",
      "source": [
        "### Define the Large Language Model (LLM) generator\n",
        "To load and manage Open Source LLMs in Haystack, is possible to use the `HuggingFaceLocalGenerator` that loads the model from Huggin Face Hub.\n",
        "\n",
        "The chosen LLM is [Zephyr 7B Beta](https://huggingface.co/HuggingFaceH4/zephyr-7b-beta), a fine-tuned version of [Mistral 7B V.01](https://huggingface.co/mistralai/Mistral-7B-v0.1) that focuses on helpfulness and outperforms many larger models on the MT-Bench and AlpacaEval benchmarks; the model was fine-tuned by the Hugging Face team.\n",
        "\n",
        "Since we are using a free Colab instance (with limited resources), the model is loaded using 4-bit quantization (passing the appropriate huggingface_pipeline_kwargs to our Generator)."
      ],
      "metadata": {
        "id": "WsTyHgRjV1Qd"
      }
    },
    {
      "cell_type": "code",
      "source": [
        "huggingface_pipeline = {\n",
        "    \"device_map\": \"auto\",\n",
        "    \"model_kwargs\":{\n",
        "        \"load_in_4bit\": True,\n",
        "        \"bnb_4bit_use_double_quant\": True,\n",
        "        \"bnb_4bit_quant_type\": \"nf4\",\n",
        "        \"bnb_4bit_compute_dtype\": torch.bfloat16\n",
        "        }\n",
        "}\n",
        "\n",
        "llm = HuggingFaceLocalGenerator(\n",
        "    model=\"HuggingFaceH4/zephyr-7b-beta\",\n",
        "    task=\"text-generation\",\n",
        "    # device=ComponentDevice.from_str(\"cuda:0\"),\n",
        "    # token=None,\n",
        "    generation_kwargs={\"max_new_tokens\": 386},\n",
        "    huggingface_pipeline_kwargs=huggingface_pipeline,\n",
        "    stop_words=None\n",
        ")\n",
        "llm.warm_up()"
      ],
      "metadata": {
        "id": "wERJuTTMTLt8",
        "colab": {
          "base_uri": "https://localhost:8080/",
          "height": 104,
          "referenced_widgets": [
            "960fdc538665424eb72c70909d046e4a",
            "1a6466fec71c4c47b9719e7c089379be",
            "c013b23312df47939c50ea83108d4d8d",
            "ebe7f8bfbdd545c798d7d971d2822555",
            "662a6f8f03e94faa99edf6ca92d8626b",
            "21505f1a76cd4e6cb561fbd3e6fd6bbc",
            "14885bbfb7204b65b95125e3a8e2209b",
            "f14a00db68344ad19a757a5371577a90",
            "d02192f05cc64c20aa65a20cd737e247",
            "fb77ed374b524eb9b6ae6d01f14476b4",
            "7aaac513563d4f5f8d78a0929f1f36ca"
          ]
        },
        "outputId": "016d4de3-91f8-4f63-8aa6-1142bc29114c"
      },
      "execution_count": 74,
      "outputs": [
        {
          "output_type": "stream",
          "name": "stderr",
          "text": [
            "The `load_in_4bit` and `load_in_8bit` arguments are deprecated and will be removed in the future versions. Please, pass a `BitsAndBytesConfig` object in `quantization_config` argument instead.\n"
          ]
        },
        {
          "output_type": "display_data",
          "data": {
            "text/plain": [
              "Loading checkpoint shards:   0%|          | 0/8 [00:00<?, ?it/s]"
            ],
            "application/vnd.jupyter.widget-view+json": {
              "version_major": 2,
              "version_minor": 0,
              "model_id": "960fdc538665424eb72c70909d046e4a"
            }
          },
          "metadata": {}
        },
        {
          "output_type": "stream",
          "name": "stderr",
          "text": [
            "Device set to use cuda:0\n"
          ]
        }
      ]
    },
    {
      "cell_type": "markdown",
      "source": [
        "#### Try the LLM"
      ],
      "metadata": {
        "id": "wlJ-68OoBDmv"
      }
    },
    {
      "cell_type": "code",
      "source": [
        "response = llm.run(prompt=\"Scrivimi una descrizione dell'Italia.\")\n",
        "rich.print(response)"
      ],
      "metadata": {
        "id": "zSYevjdNBHGy"
      },
      "execution_count": null,
      "outputs": []
    },
    {
      "cell_type": "markdown",
      "source": [
        "## Create the Retrieval Pipeline"
      ],
      "metadata": {
        "id": "uUHdCn1KWw6A"
      }
    },
    {
      "cell_type": "code",
      "source": [
        "# Add components to your pipeline\n",
        "retrieval_pipeline = Pipeline()\n",
        "retrieval_pipeline.add_component(name=\"text_embedder\", instance=text_embedder)\n",
        "retrieval_pipeline.add_component(name=\"embedding_retriever\", instance=embedding_retriever)\n",
        "retrieval_pipeline.add_component(name=\"bm25_retriever\", instance=bm25_retriever)\n",
        "retrieval_pipeline.add_component(name=\"document_joiner\", instance=document_joiner)\n",
        "retrieval_pipeline.add_component(name=\"ranker\", instance=ranker)\n",
        "retrieval_pipeline.add_component(name=\"prompt_builder\", instance=prompt_builder)\n",
        "retrieval_pipeline.add_component(name=\"llm\", instance=llm)\n",
        "\n",
        "# Now, connect the components to each other\n",
        "retrieval_pipeline.connect(sender=\"text_embedder\", receiver=\"embedding_retriever\")\n",
        "retrieval_pipeline.connect(sender=\"bm25_retriever\", receiver=\"document_joiner\")\n",
        "retrieval_pipeline.connect(sender=\"embedding_retriever\", receiver=\"document_joiner\")\n",
        "retrieval_pipeline.connect(sender=\"document_joiner\", receiver=\"ranker\")\n",
        "retrieval_pipeline.connect(sender=\"ranker.documents\", receiver=\"prompt_builder.documents\")\n",
        "retrieval_pipeline.connect(sender=\"prompt_builder.prompt\", receiver=\"llm.prompt\")"
      ],
      "metadata": {
        "id": "apWHGwMJrap8"
      },
      "execution_count": null,
      "outputs": []
    },
    {
      "cell_type": "markdown",
      "source": [
        "### Visualize the RAG Pipeline"
      ],
      "metadata": {
        "id": "S4AjMe75idXs"
      }
    },
    {
      "cell_type": "code",
      "source": [
        "retrieval_pipeline.draw(path=\"retrieval_pipeline.png\")\n",
        "Image(\"retrieval_pipeline.png\")"
      ],
      "metadata": {
        "id": "xgaMpaQaifb2"
      },
      "execution_count": null,
      "outputs": []
    },
    {
      "cell_type": "markdown",
      "source": [
        "### Serialize the RAG pipeline"
      ],
      "metadata": {
        "id": "brN1C1yJtgoY"
      }
    },
    {
      "cell_type": "code",
      "source": [
        "yaml_pipeline = retrieval_pipeline.dumps()\n",
        "rich.print(yaml_pipeline)"
      ],
      "metadata": {
        "id": "Uy40oKdbtgu2"
      },
      "execution_count": null,
      "outputs": []
    },
    {
      "cell_type": "markdown",
      "source": [
        "## Test the RAG Pipeline"
      ],
      "metadata": {
        "id": "4qFK7QsY1Y87"
      }
    },
    {
      "cell_type": "code",
      "source": [
        "def make_question(query: str) -> dict:\n",
        "  \"\"\"Make question using the LLM supported by RAG.\"\"\"\n",
        "  data = {\n",
        "       \"text_embedder\": {\"text\": query},\n",
        "       \"bm25_retriever\": {\"query\": query},\n",
        "       \"ranker\": {\"query\": query},\n",
        "       \"prompt_builder\": {\"query\": query}\n",
        "   }\n",
        "  result = retrieval_pipeline.run(\n",
        "       data=data,\n",
        "       #debug=False,\n",
        "       include_outputs_from={\"ranker\", \"prompt_builder\"}\n",
        "   )\n",
        "  return result"
      ],
      "metadata": {
        "id": "AyMknm7PgN2M"
      },
      "execution_count": null,
      "outputs": []
    },
    {
      "cell_type": "markdown",
      "source": [
        "### Make questions using the RAG Pipeline"
      ],
      "metadata": {
        "id": "Rwy73q-SYicQ"
      }
    },
    {
      "cell_type": "code",
      "source": [
        "answer = make_question(query=\"I would to watch a Marvel or DC superhero movie\")\n",
        "rich.print(answer)"
      ],
      "metadata": {
        "id": "9TMUJzBJ0GjU"
      },
      "execution_count": null,
      "outputs": []
    },
    {
      "cell_type": "code",
      "source": [
        "answer = make_question(query=\"In what year did Juventus win its last Champions League?\")\n",
        "rich.print(answer[\"llm\"][\"replies\"][0])"
      ],
      "metadata": {
        "id": "ksFLG4Y2HRHy"
      },
      "execution_count": null,
      "outputs": []
    },
    {
      "cell_type": "code",
      "source": [],
      "metadata": {
        "id": "f9SpOI2EJURK"
      },
      "execution_count": null,
      "outputs": []
    }
  ]
}